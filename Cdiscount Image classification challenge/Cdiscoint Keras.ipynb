{
 "cells": [
  {
   "cell_type": "code",
   "execution_count": 4,
   "metadata": {},
   "outputs": [
    {
     "name": "stdout",
     "output_type": "stream",
     "text": [
      "All modules imported\n"
     ]
    }
   ],
   "source": [
    "import numpy as np\n",
    "import pandas as pd\n",
    "import bson\n",
    "import os,io\n",
    "from skimage.data import imread\n",
    "print('All modules imported')"
   ]
  },
  {
   "cell_type": "code",
   "execution_count": 5,
   "metadata": {
    "collapsed": true
   },
   "outputs": [],
   "source": [
    "from IPython.core.interactiveshell import InteractiveShell\n",
    "InteractiveShell.ast_node_interactivity = \"all\""
   ]
  },
  {
   "cell_type": "code",
   "execution_count": 6,
   "metadata": {
    "collapsed": true
   },
   "outputs": [],
   "source": [
    "#File paths\n",
    "cat_file = 'data/category_names.csv'\n",
    "train_file= 'data/train_example.bson'\n",
    "train_dir='data/train/'\n",
    "valid_dir='data/validation/'\n",
    "test_dir='data/test/'\n",
    "out_dir=''"
   ]
  },
  {
   "cell_type": "code",
   "execution_count": 35,
   "metadata": {},
   "outputs": [
    {
     "name": "stdout",
     "output_type": "stream",
     "text": [
      "Total Categories :5270\n"
     ]
    }
   ],
   "source": [
    "categories = pd.read_csv(cat_file)\n",
    "print('Total Categories :'+ str(len(set(categories.category_id))))\n",
    "num_classes=len(set(categories.category_id))"
   ]
  },
  {
   "cell_type": "code",
   "execution_count": 49,
   "metadata": {},
   "outputs": [
    {
     "name": "stdout",
     "output_type": "stream",
     "text": [
      "5270\n"
     ]
    }
   ],
   "source": [
    "cat_classes= [str(cat) for cat in categories.category_id]\n",
    "print(len(cat_classes))"
   ]
  },
  {
   "cell_type": "code",
   "execution_count": 8,
   "metadata": {
    "collapsed": true
   },
   "outputs": [],
   "source": [
    "#Load bson training data\n",
    "data= bson.decode_file_iter(open(train_file,'rb'))"
   ]
  },
  {
   "cell_type": "code",
   "execution_count": 9,
   "metadata": {},
   "outputs": [
    {
     "name": "stdout",
     "output_type": "stream",
     "text": [
      "0\n"
     ]
    }
   ],
   "source": [
    "for i,d in enumerate(data):\n",
    "    print(d['_id'])\n",
    "    if(i%2==0):\n",
    "        break;\n",
    "        "
   ]
  },
  {
   "cell_type": "code",
   "execution_count": 10,
   "metadata": {},
   "outputs": [
    {
     "data": {
      "text/plain": [
       "7254"
      ]
     },
     "execution_count": 10,
     "metadata": {},
     "output_type": "execute_result"
    },
    {
     "data": {
      "text/plain": [
       "5391"
      ]
     },
     "execution_count": 10,
     "metadata": {},
     "output_type": "execute_result"
    },
    {
     "data": {
      "text/plain": [
       "4516"
      ]
     },
     "execution_count": 10,
     "metadata": {},
     "output_type": "execute_result"
    },
    {
     "data": {
      "text/plain": [
       "6282"
      ]
     },
     "execution_count": 10,
     "metadata": {},
     "output_type": "execute_result"
    },
    {
     "data": {
      "text/plain": [
       "3647"
      ]
     },
     "execution_count": 10,
     "metadata": {},
     "output_type": "execute_result"
    },
    {
     "data": {
      "text/plain": [
       "4827"
      ]
     },
     "execution_count": 10,
     "metadata": {},
     "output_type": "execute_result"
    },
    {
     "data": {
      "text/plain": [
       "4820"
      ]
     },
     "execution_count": 10,
     "metadata": {},
     "output_type": "execute_result"
    },
    {
     "data": {
      "text/plain": [
       "5501"
      ]
     },
     "execution_count": 10,
     "metadata": {},
     "output_type": "execute_result"
    },
    {
     "data": {
      "text/plain": [
       "7397"
      ]
     },
     "execution_count": 10,
     "metadata": {},
     "output_type": "execute_result"
    },
    {
     "data": {
      "text/plain": [
       "8716"
      ]
     },
     "execution_count": 10,
     "metadata": {},
     "output_type": "execute_result"
    },
    {
     "data": {
      "text/plain": [
       "5790"
      ]
     },
     "execution_count": 10,
     "metadata": {},
     "output_type": "execute_result"
    },
    {
     "data": {
      "text/plain": [
       "4462"
      ]
     },
     "execution_count": 10,
     "metadata": {},
     "output_type": "execute_result"
    },
    {
     "data": {
      "text/plain": [
       "3492"
      ]
     },
     "execution_count": 10,
     "metadata": {},
     "output_type": "execute_result"
    },
    {
     "data": {
      "text/plain": [
       "4165"
      ]
     },
     "execution_count": 10,
     "metadata": {},
     "output_type": "execute_result"
    },
    {
     "data": {
      "text/plain": [
       "3665"
      ]
     },
     "execution_count": 10,
     "metadata": {},
     "output_type": "execute_result"
    },
    {
     "data": {
      "text/plain": [
       "6905"
      ]
     },
     "execution_count": 10,
     "metadata": {},
     "output_type": "execute_result"
    },
    {
     "data": {
      "text/plain": [
       "7014"
      ]
     },
     "execution_count": 10,
     "metadata": {},
     "output_type": "execute_result"
    },
    {
     "data": {
      "text/plain": [
       "6303"
      ]
     },
     "execution_count": 10,
     "metadata": {},
     "output_type": "execute_result"
    },
    {
     "data": {
      "text/plain": [
       "10608"
      ]
     },
     "execution_count": 10,
     "metadata": {},
     "output_type": "execute_result"
    },
    {
     "data": {
      "text/plain": [
       "4508"
      ]
     },
     "execution_count": 10,
     "metadata": {},
     "output_type": "execute_result"
    },
    {
     "data": {
      "text/plain": [
       "6348"
      ]
     },
     "execution_count": 10,
     "metadata": {},
     "output_type": "execute_result"
    },
    {
     "data": {
      "text/plain": [
       "4793"
      ]
     },
     "execution_count": 10,
     "metadata": {},
     "output_type": "execute_result"
    },
    {
     "data": {
      "text/plain": [
       "1663"
      ]
     },
     "execution_count": 10,
     "metadata": {},
     "output_type": "execute_result"
    },
    {
     "data": {
      "text/plain": [
       "3518"
      ]
     },
     "execution_count": 10,
     "metadata": {},
     "output_type": "execute_result"
    },
    {
     "data": {
      "text/plain": [
       "5647"
      ]
     },
     "execution_count": 10,
     "metadata": {},
     "output_type": "execute_result"
    },
    {
     "data": {
      "text/plain": [
       "3284"
      ]
     },
     "execution_count": 10,
     "metadata": {},
     "output_type": "execute_result"
    },
    {
     "data": {
      "text/plain": [
       "5217"
      ]
     },
     "execution_count": 10,
     "metadata": {},
     "output_type": "execute_result"
    },
    {
     "data": {
      "text/plain": [
       "2527"
      ]
     },
     "execution_count": 10,
     "metadata": {},
     "output_type": "execute_result"
    },
    {
     "data": {
      "text/plain": [
       "4984"
      ]
     },
     "execution_count": 10,
     "metadata": {},
     "output_type": "execute_result"
    },
    {
     "data": {
      "text/plain": [
       "2990"
      ]
     },
     "execution_count": 10,
     "metadata": {},
     "output_type": "execute_result"
    },
    {
     "data": {
      "text/plain": [
       "3017"
      ]
     },
     "execution_count": 10,
     "metadata": {},
     "output_type": "execute_result"
    },
    {
     "data": {
      "text/plain": [
       "4531"
      ]
     },
     "execution_count": 10,
     "metadata": {},
     "output_type": "execute_result"
    },
    {
     "data": {
      "text/plain": [
       "9248"
      ]
     },
     "execution_count": 10,
     "metadata": {},
     "output_type": "execute_result"
    },
    {
     "data": {
      "text/plain": [
       "7803"
      ]
     },
     "execution_count": 10,
     "metadata": {},
     "output_type": "execute_result"
    },
    {
     "data": {
      "text/plain": [
       "4665"
      ]
     },
     "execution_count": 10,
     "metadata": {},
     "output_type": "execute_result"
    },
    {
     "data": {
      "text/plain": [
       "4665"
      ]
     },
     "execution_count": 10,
     "metadata": {},
     "output_type": "execute_result"
    },
    {
     "data": {
      "text/plain": [
       "6302"
      ]
     },
     "execution_count": 10,
     "metadata": {},
     "output_type": "execute_result"
    },
    {
     "data": {
      "text/plain": [
       "7858"
      ]
     },
     "execution_count": 10,
     "metadata": {},
     "output_type": "execute_result"
    },
    {
     "data": {
      "text/plain": [
       "7944"
      ]
     },
     "execution_count": 10,
     "metadata": {},
     "output_type": "execute_result"
    },
    {
     "data": {
      "text/plain": [
       "6749"
      ]
     },
     "execution_count": 10,
     "metadata": {},
     "output_type": "execute_result"
    },
    {
     "data": {
      "text/plain": [
       "6817"
      ]
     },
     "execution_count": 10,
     "metadata": {},
     "output_type": "execute_result"
    },
    {
     "data": {
      "text/plain": [
       "3878"
      ]
     },
     "execution_count": 10,
     "metadata": {},
     "output_type": "execute_result"
    },
    {
     "data": {
      "text/plain": [
       "3847"
      ]
     },
     "execution_count": 10,
     "metadata": {},
     "output_type": "execute_result"
    },
    {
     "data": {
      "text/plain": [
       "5326"
      ]
     },
     "execution_count": 10,
     "metadata": {},
     "output_type": "execute_result"
    },
    {
     "data": {
      "text/plain": [
       "7110"
      ]
     },
     "execution_count": 10,
     "metadata": {},
     "output_type": "execute_result"
    },
    {
     "data": {
      "text/plain": [
       "5969"
      ]
     },
     "execution_count": 10,
     "metadata": {},
     "output_type": "execute_result"
    },
    {
     "data": {
      "text/plain": [
       "3908"
      ]
     },
     "execution_count": 10,
     "metadata": {},
     "output_type": "execute_result"
    },
    {
     "data": {
      "text/plain": [
       "3220"
      ]
     },
     "execution_count": 10,
     "metadata": {},
     "output_type": "execute_result"
    },
    {
     "data": {
      "text/plain": [
       "3808"
      ]
     },
     "execution_count": 10,
     "metadata": {},
     "output_type": "execute_result"
    },
    {
     "data": {
      "text/plain": [
       "2455"
      ]
     },
     "execution_count": 10,
     "metadata": {},
     "output_type": "execute_result"
    },
    {
     "data": {
      "text/plain": [
       "6605"
      ]
     },
     "execution_count": 10,
     "metadata": {},
     "output_type": "execute_result"
    },
    {
     "data": {
      "text/plain": [
       "5828"
      ]
     },
     "execution_count": 10,
     "metadata": {},
     "output_type": "execute_result"
    },
    {
     "data": {
      "text/plain": [
       "3977"
      ]
     },
     "execution_count": 10,
     "metadata": {},
     "output_type": "execute_result"
    },
    {
     "data": {
      "text/plain": [
       "5995"
      ]
     },
     "execution_count": 10,
     "metadata": {},
     "output_type": "execute_result"
    },
    {
     "data": {
      "text/plain": [
       "4697"
      ]
     },
     "execution_count": 10,
     "metadata": {},
     "output_type": "execute_result"
    },
    {
     "data": {
      "text/plain": [
       "4151"
      ]
     },
     "execution_count": 10,
     "metadata": {},
     "output_type": "execute_result"
    },
    {
     "data": {
      "text/plain": [
       "9351"
      ]
     },
     "execution_count": 10,
     "metadata": {},
     "output_type": "execute_result"
    },
    {
     "data": {
      "text/plain": [
       "7980"
      ]
     },
     "execution_count": 10,
     "metadata": {},
     "output_type": "execute_result"
    },
    {
     "data": {
      "text/plain": [
       "6210"
      ]
     },
     "execution_count": 10,
     "metadata": {},
     "output_type": "execute_result"
    },
    {
     "data": {
      "text/plain": [
       "5536"
      ]
     },
     "execution_count": 10,
     "metadata": {},
     "output_type": "execute_result"
    },
    {
     "data": {
      "text/plain": [
       "7156"
      ]
     },
     "execution_count": 10,
     "metadata": {},
     "output_type": "execute_result"
    },
    {
     "data": {
      "text/plain": [
       "7605"
      ]
     },
     "execution_count": 10,
     "metadata": {},
     "output_type": "execute_result"
    },
    {
     "data": {
      "text/plain": [
       "4042"
      ]
     },
     "execution_count": 10,
     "metadata": {},
     "output_type": "execute_result"
    },
    {
     "data": {
      "text/plain": [
       "4320"
      ]
     },
     "execution_count": 10,
     "metadata": {},
     "output_type": "execute_result"
    },
    {
     "data": {
      "text/plain": [
       "4734"
      ]
     },
     "execution_count": 10,
     "metadata": {},
     "output_type": "execute_result"
    },
    {
     "data": {
      "text/plain": [
       "4541"
      ]
     },
     "execution_count": 10,
     "metadata": {},
     "output_type": "execute_result"
    },
    {
     "data": {
      "text/plain": [
       "3930"
      ]
     },
     "execution_count": 10,
     "metadata": {},
     "output_type": "execute_result"
    },
    {
     "data": {
      "text/plain": [
       "8337"
      ]
     },
     "execution_count": 10,
     "metadata": {},
     "output_type": "execute_result"
    },
    {
     "data": {
      "text/plain": [
       "7589"
      ]
     },
     "execution_count": 10,
     "metadata": {},
     "output_type": "execute_result"
    },
    {
     "data": {
      "text/plain": [
       "4599"
      ]
     },
     "execution_count": 10,
     "metadata": {},
     "output_type": "execute_result"
    },
    {
     "data": {
      "text/plain": [
       "2968"
      ]
     },
     "execution_count": 10,
     "metadata": {},
     "output_type": "execute_result"
    },
    {
     "data": {
      "text/plain": [
       "9341"
      ]
     },
     "execution_count": 10,
     "metadata": {},
     "output_type": "execute_result"
    },
    {
     "data": {
      "text/plain": [
       "9060"
      ]
     },
     "execution_count": 10,
     "metadata": {},
     "output_type": "execute_result"
    },
    {
     "data": {
      "text/plain": [
       "5186"
      ]
     },
     "execution_count": 10,
     "metadata": {},
     "output_type": "execute_result"
    },
    {
     "data": {
      "text/plain": [
       "5483"
      ]
     },
     "execution_count": 10,
     "metadata": {},
     "output_type": "execute_result"
    },
    {
     "data": {
      "text/plain": [
       "9493"
      ]
     },
     "execution_count": 10,
     "metadata": {},
     "output_type": "execute_result"
    },
    {
     "data": {
      "text/plain": [
       "2458"
      ]
     },
     "execution_count": 10,
     "metadata": {},
     "output_type": "execute_result"
    },
    {
     "data": {
      "text/plain": [
       "9720"
      ]
     },
     "execution_count": 10,
     "metadata": {},
     "output_type": "execute_result"
    },
    {
     "data": {
      "text/plain": [
       "4505"
      ]
     },
     "execution_count": 10,
     "metadata": {},
     "output_type": "execute_result"
    },
    {
     "data": {
      "text/plain": [
       "7061"
      ]
     },
     "execution_count": 10,
     "metadata": {},
     "output_type": "execute_result"
    },
    {
     "data": {
      "text/plain": [
       "6555"
      ]
     },
     "execution_count": 10,
     "metadata": {},
     "output_type": "execute_result"
    },
    {
     "data": {
      "text/plain": [
       "5472"
      ]
     },
     "execution_count": 10,
     "metadata": {},
     "output_type": "execute_result"
    },
    {
     "data": {
      "text/plain": [
       "5641"
      ]
     },
     "execution_count": 10,
     "metadata": {},
     "output_type": "execute_result"
    },
    {
     "data": {
      "text/plain": [
       "6205"
      ]
     },
     "execution_count": 10,
     "metadata": {},
     "output_type": "execute_result"
    },
    {
     "data": {
      "text/plain": [
       "6189"
      ]
     },
     "execution_count": 10,
     "metadata": {},
     "output_type": "execute_result"
    },
    {
     "data": {
      "text/plain": [
       "7471"
      ]
     },
     "execution_count": 10,
     "metadata": {},
     "output_type": "execute_result"
    },
    {
     "data": {
      "text/plain": [
       "4803"
      ]
     },
     "execution_count": 10,
     "metadata": {},
     "output_type": "execute_result"
    },
    {
     "data": {
      "text/plain": [
       "8143"
      ]
     },
     "execution_count": 10,
     "metadata": {},
     "output_type": "execute_result"
    },
    {
     "data": {
      "text/plain": [
       "8278"
      ]
     },
     "execution_count": 10,
     "metadata": {},
     "output_type": "execute_result"
    },
    {
     "data": {
      "text/plain": [
       "8359"
      ]
     },
     "execution_count": 10,
     "metadata": {},
     "output_type": "execute_result"
    },
    {
     "data": {
      "text/plain": [
       "4223"
      ]
     },
     "execution_count": 10,
     "metadata": {},
     "output_type": "execute_result"
    },
    {
     "data": {
      "text/plain": [
       "3909"
      ]
     },
     "execution_count": 10,
     "metadata": {},
     "output_type": "execute_result"
    },
    {
     "data": {
      "text/plain": [
       "6490"
      ]
     },
     "execution_count": 10,
     "metadata": {},
     "output_type": "execute_result"
    },
    {
     "data": {
      "text/plain": [
       "5426"
      ]
     },
     "execution_count": 10,
     "metadata": {},
     "output_type": "execute_result"
    },
    {
     "data": {
      "text/plain": [
       "2548"
      ]
     },
     "execution_count": 10,
     "metadata": {},
     "output_type": "execute_result"
    },
    {
     "data": {
      "text/plain": [
       "4553"
      ]
     },
     "execution_count": 10,
     "metadata": {},
     "output_type": "execute_result"
    },
    {
     "data": {
      "text/plain": [
       "7840"
      ]
     },
     "execution_count": 10,
     "metadata": {},
     "output_type": "execute_result"
    },
    {
     "data": {
      "text/plain": [
       "5904"
      ]
     },
     "execution_count": 10,
     "metadata": {},
     "output_type": "execute_result"
    },
    {
     "data": {
      "text/plain": [
       "6461"
      ]
     },
     "execution_count": 10,
     "metadata": {},
     "output_type": "execute_result"
    },
    {
     "data": {
      "text/plain": [
       "5899"
      ]
     },
     "execution_count": 10,
     "metadata": {},
     "output_type": "execute_result"
    },
    {
     "data": {
      "text/plain": [
       "2585"
      ]
     },
     "execution_count": 10,
     "metadata": {},
     "output_type": "execute_result"
    },
    {
     "data": {
      "text/plain": [
       "4764"
      ]
     },
     "execution_count": 10,
     "metadata": {},
     "output_type": "execute_result"
    },
    {
     "data": {
      "text/plain": [
       "5718"
      ]
     },
     "execution_count": 10,
     "metadata": {},
     "output_type": "execute_result"
    },
    {
     "data": {
      "text/plain": [
       "7989"
      ]
     },
     "execution_count": 10,
     "metadata": {},
     "output_type": "execute_result"
    },
    {
     "data": {
      "text/plain": [
       "5768"
      ]
     },
     "execution_count": 10,
     "metadata": {},
     "output_type": "execute_result"
    },
    {
     "data": {
      "text/plain": [
       "5528"
      ]
     },
     "execution_count": 10,
     "metadata": {},
     "output_type": "execute_result"
    },
    {
     "data": {
      "text/plain": [
       "5754"
      ]
     },
     "execution_count": 10,
     "metadata": {},
     "output_type": "execute_result"
    },
    {
     "data": {
      "text/plain": [
       "8600"
      ]
     },
     "execution_count": 10,
     "metadata": {},
     "output_type": "execute_result"
    },
    {
     "data": {
      "text/plain": [
       "3484"
      ]
     },
     "execution_count": 10,
     "metadata": {},
     "output_type": "execute_result"
    },
    {
     "name": "stdout",
     "output_type": "stream",
     "text": [
      "Training : 29 categories with 66 products\n",
      "Validation : 10 categories with 15 products\n",
      "Images loaded to disk under categories folder\n"
     ]
    }
   ],
   "source": [
    "import collections\n",
    "import random\n",
    "#Prepare training images folder by category id. Name each image with id and index.\n",
    "valid_pct= 0.2\n",
    "train_cats= collections.Counter()\n",
    "valid_cats= collections.Counter()\n",
    "for i,d in enumerate(data):\n",
    "    category_id=d['category_id']\n",
    "    id=d['_id']\n",
    "    #make train directory if it doesn't exist\n",
    "    if random.random()> valid_pct:\n",
    "        out_dir= train_dir\n",
    "        train_cats[category_id]+=1\n",
    "    else:\n",
    "        out_dir= valid_dir\n",
    "        valid_cats[category_id]+=1\n",
    "    if not os.path.isdir(out_dir):\n",
    "        os.mkdir(out_dir)\n",
    "    for e,pic in enumerate(d['imgs']):\n",
    "        picture= imread(io.BytesIO(pic['picture']))\n",
    "        cat_dir = os.path.join(out_dir,str(category_id))\n",
    "        if not os.path.isdir(cat_dir):\n",
    "            os.mkdir(cat_dir)\n",
    "        fname= os.path.join(cat_dir,'{}.{}.jpg'.format(id,e))\n",
    "        with open(fname,'wb') as picf:\n",
    "            picf.write(pic['picture'])\n",
    "for name,cnt in [('Training',train_cats),('Validation',valid_cats)]:\n",
    "    print(\"{} : {} categories with {} products\".format(name,len(cnt),sum(cnt.values())))\n",
    "print('Images loaded to disk under categories folder')         "
   ]
  },
  {
   "cell_type": "code",
   "execution_count": 11,
   "metadata": {},
   "outputs": [
    {
     "name": "stdout",
     "output_type": "stream",
     "text": [
      "sample image\n"
     ]
    },
    {
     "data": {
      "text/plain": [
       "<matplotlib.image.AxesImage at 0x11c5442b0>"
      ]
     },
     "execution_count": 11,
     "metadata": {},
     "output_type": "execute_result"
    },
    {
     "data": {
      "image/png": "[encoded data removed]",
      "text/plain": [
       "<matplotlib.figure.Figure at 0x11b5aefd0>"
      ]
     },
     "metadata": {},
     "output_type": "display_data"
    }
   ],
   "source": [
    "# Display Sample image\n",
    "import matplotlib.pyplot as plt\n",
    "import matplotlib.cm as cm\n",
    "%matplotlib inline\n",
    "print(\"sample image\")\n",
    "plt.imshow(picture,cm.binary)\n",
    "plt.show()"
   ]
  },
  {
   "cell_type": "code",
   "execution_count": 12,
   "metadata": {},
   "outputs": [
    {
     "data": {
      "text/plain": [
       "(180, 180, 3)"
      ]
     },
     "execution_count": 12,
     "metadata": {},
     "output_type": "execute_result"
    }
   ],
   "source": [
    "#Image shape\n",
    "sample_pic= np.array(picture)\n",
    "sample_pic.shape"
   ]
  },
  {
   "cell_type": "code",
   "execution_count": 13,
   "metadata": {},
   "outputs": [
    {
     "name": "stdout",
     "output_type": "stream",
     "text": [
      "['26.0.jpg', '26.1.jpg', '26.2.jpg', '26.3.jpg']\n"
     ]
    }
   ],
   "source": [
    "import re\n",
    "files = [f for f in os.listdir('data/train/1000001859') if re.match(r'[0-9]+.*\\.jpg', f)]\n",
    "print(files)"
   ]
  },
  {
   "cell_type": "code",
   "execution_count": 14,
   "metadata": {
    "collapsed": true
   },
   "outputs": [],
   "source": [
    "from keras.preprocessing.image import ImageDataGenerator\n",
    "from keras.models import Sequential\n",
    "from keras.layers import Conv2D, MaxPooling2D\n",
    "from keras.layers import Activation, Dropout, Flatten, Dense\n"
   ]
  },
  {
   "cell_type": "code",
   "execution_count": 15,
   "metadata": {
    "collapsed": true
   },
   "outputs": [],
   "source": [
    "img_width, img_height= 180,180"
   ]
  },
  {
   "cell_type": "code",
   "execution_count": 16,
   "metadata": {
    "collapsed": true
   },
   "outputs": [],
   "source": [
    "epochs= 10\n",
    "batch_size=32\n",
    "        "
   ]
  },
  {
   "cell_type": "code",
   "execution_count": 17,
   "metadata": {
    "collapsed": true
   },
   "outputs": [],
   "source": [
    "input_shape= (img_width,img_height,3)"
   ]
  },
  {
   "cell_type": "code",
   "execution_count": 50,
   "metadata": {},
   "outputs": [
    {
     "name": "stdout",
     "output_type": "stream",
     "text": [
      "Found 106 images belonging to 5270 classes.\n",
      "Found 37 images belonging to 5270 classes.\n"
     ]
    }
   ],
   "source": [
    "# train/val data generator\n",
    "train_datagen= ImageDataGenerator(\n",
    "                rescale= 1./255,\n",
    "                shear_range=0.2,\n",
    "                zoom_range=0.2,\n",
    "                horizontal_flip=True)\n",
    "test_datagen= ImageDataGenerator(rescale=1./255)\n",
    "\n",
    "train_generator= train_datagen.flow_from_directory( train_dir, \n",
    "                                                   target_size=(img_width,img_height),\n",
    "                                                   batch_size=batch_size,\n",
    "                                                   classes=cat_classes,\n",
    "                                                   class_mode='categorical'\n",
    "                                                   , shuffle=True)\n",
    "\n",
    "validation_generator = test_datagen.flow_from_directory(valid_dir,\n",
    "                                                       target_size=(img_width,img_height),\n",
    "                                                       batch_size=batch_size,\n",
    "                                                       classes=cat_classes,\n",
    "                                                       class_mode='categorical'\n",
    "                                                        , shuffle=True)"
   ]
  },
  {
   "cell_type": "code",
   "execution_count": 51,
   "metadata": {},
   "outputs": [
    {
     "name": "stdout",
     "output_type": "stream",
     "text": [
      "{'1000021794': 0, '1000012764': 1, '1000012776': 2, '1000012768': 3, '1000012755': 4, '1000012738': 5, '1000012732': 6, '1000013163': 7, '1000012712': 8, '1000012718': 9, '1000016200': 10, '1000016202': 11, '1000016204': 12, '1000016210': 13, '1000021524': 14, '1000016212': 15, '1000016220': 16, '1000016206': 17, '1000016214': 18, '1000016216': 19, '1000016222': 20, '1000016226': 21, '1000016228': 22, '1000016230': 23, '1000016232': 24, '1000016234': 25, '1000016236': 26, '1000016238': 27, '1000016240': 28, '1000016224': 29, '1000016242': 30, '1000016244': 31, '1000016248': 32, '1000016246': 33, '1000016250': 34, '1000016256': 35, '1000016258': 36, '1000016260': 37, '1000016262': 38, '1000016266': 39, '1000016252': 40, '1000016264': 41, '1000016268': 42, '1000016270': 43, '1000016272': 44, '1000016274': 45, '1000016288': 46, '1000016276': 47, '1000016278': 48, '1000016280': 49, '1000016282': 50, '1000016284': 51, '1000016286': 52, '1000016290': 53, '1000016296': 54, '1000016292': 55, '1000016294': 56, '1000016302': 57, '1000016306': 58, '1000016308': 59, '1000016298': 60, '1000016300': 61, '1000016330': 62, '1000016314': 63, '1000016316': 64, '1000016322': 65, '1000016371': 66, '1000016332': 67, '1000016334': 68, '1000016338': 69, '1000016340': 70, '1000016342': 71, '1000016344': 72, '1000016356': 73, '1000016346': 74, '1000016373': 75, '1000016348': 76, '1000016350': 77, '1000016352': 78, '1000016353': 79, '1000016362': 80, '1000016364': 81, '1000016366': 82, '1000016369': 83, '1000016375': 84, '1000016377': 85, '1000016397': 86, '1000016381': 87, '1000016395': 88, '1000016379': 89, '1000016383': 90, '1000016385': 91, '1000022497': 92, '1000016387': 93, '1000016389': 94, '1000016391': 95, '1000016400': 96, '1000016402': 97, '1000016404': 98, '1000021520': 99, '1000016406': 100, '1000016398': 101, '1000016408': 102, '1000021522': 103, '1000016416': 104, '1000016410': 105, '1000016412': 106, '1000016414': 107, '1000016418': 108, '1000016420': 109, '1000016422': 110, '1000016424': 111, '1000016426': 112, '1000016428': 113, '1000016430': 114, '1000016432': 115, '1000016434': 116, '1000016440': 117, '1000016442': 118, '1000016444': 119, '1000016446': 120, '1000016448': 121, '1000016454': 122, '1000021802': 123, '1000016452': 124, '1000016458': 125, '1000016460': 126, '1000016462': 127, '1000016464': 128, '1000016472': 129, '1000016466': 130, '1000016468': 131, '1000016456': 132, '1000016474': 133, '1000016476': 134, '1000016478': 135, '1000016480': 136, '1000016482': 137, '1000016492': 138, '1000016490': 139, '1000016484': 140, '1000016486': 141, '1000016488': 142, '1000016494': 143, '1000016496': 144, '1000016498': 145, '1000016506': 146, '1000016500': 147, '1000016502': 148, '1000016504': 149, '1000016508': 150, '1000016510': 151, '1000016512': 152, '1000016514': 153, '1000016516': 154, '1000016518': 155, '1000016520': 156, '1000016522': 157, '1000016542': 158, '1000016524': 159, '1000016526': 160, '1000016528': 161, '1000016530': 162, '1000016532': 163, '1000016534': 164, '1000016536': 165, '1000016538': 166, '1000016540': 167, '1000017266': 168, '1000012391': 169, '1000012371': 170, '1000012373': 171, '1000012377': 172, '1000012379': 173, '1000012436': 174, '1000012381': 175, '1000012383': 176, '1000012639': 177, '1000012665': 178, '1000020713': 179, '1000012867': 180, '1000015286': 181, '1000012385': 182, '1000020745': 183, '1000012387': 184, '1000012389': 185, '1000012393': 186, '1000012395': 187, '1000012397': 188, '1000012399': 189, '1000012401': 190, '1000012403': 191, '1000012405': 192, '1000013167': 193, '1000012476': 194, '1000020747': 195, '1000003349': 196, '1000020719': 197, '1000002194': 198, '1000002208': 199, '1000002198': 200, '1000002200': 201, '1000002202': 202, '1000007424': 203, '1000020751': 204, '1000002204': 205, '1000002206': 206, '1000015712': 207, '1000003351': 208, '1000002213': 209, '1000002215': 210, '1000002217': 211, '1000015716': 212, '1000002219': 213, '1000002223': 214, '1000015722': 215, '1000002225': 216, '1000015714': 217, '1000002227': 218, '1000015726': 219, '1000002221': 220, '1000002229': 221, '1000015728': 222, '1000003353': 223, '1000002233': 224, '1000015718': 225, '1000002235': 226, '1000013099': 227, '1000002231': 228, '1000012884': 229, '1000002237': 230, '1000002239': 231, '1000002241': 232, '1000002243': 233, '1000015720': 234, '1000002246': 235, '1000002248': 236, '1000002252': 237, '1000020725': 238, '1000002250': 239, '1000002254': 240, '1000020723': 241, '1000002258': 242, '1000002262': 243, '1000002264': 244, '1000002452': 245, '1000013194': 246, '1000002266': 247, '1000002268': 248, '1000003468': 249, '1000002512': 250, '1000022195': 251, '1000002304': 252, '1000002271': 253, '1000012669': 254, '1000002273': 255, '1000002275': 256, '1000012643': 257, '1000002277': 258, '1000002279': 259, '1000012641': 260, '1000007807': 261, '1000002281': 262, '1000009116': 263, '1000002285': 264, '1000002287': 265, '1000002289': 266, '1000002291': 267, '1000002293': 268, '1000002295': 269, '1000002299': 270, '1000002301': 271, '1000020759': 272, '1000002310': 273, '1000002312': 274, '1000002316': 275, '1000002318': 276, '1000002320': 277, '1000002322': 278, '1000020763': 279, '1000020765': 280, '1000002326': 281, '1000002328': 282, '1000007403': 283, '1000002330': 284, '1000020767': 285, '1000002332': 286, '1000002324': 287, '1000002314': 288, '1000020727': 289, '1000002334': 290, '1000002336': 291, '1000020729': 292, '1000003489': 293, '1000002338': 294, '1000002340': 295, '1000003519': 296, '1000002342': 297, '1000002344': 298, '1000002346': 299, '1000002348': 300, '1000002350': 301, '1000002354': 302, '1000002352': 303, '1000002308': 304, '1000002356': 305, '1000020761': 306, '1000015504': 307, '1000015502': 308, '1000015506': 309, '1000015508': 310, '1000015498': 311, '1000015500': 312, '1000015510': 313, '1000015702': 314, '1000002373': 315, '1000002361': 316, '1000003500': 317, '1000002363': 318, '1000020769': 319, '1000002375': 320, '1000002365': 321, '1000002369': 322, '1000009407': 323, '1000002371': 324, '1000009314': 325, '1000002393': 326, '1000002395': 327, '1000002389': 328, '1000002397': 329, '1000002399': 330, '1000002401': 331, '1000003550': 332, '1000002403': 333, '1000002405': 334, '1000002391': 335, '1000002409': 336, '1000020771': 337, '1000003347': 338, '1000002411': 339, '1000017191': 340, '1000020741': 341, '1000002413': 342, '1000002415': 343, '1000002419': 344, '1000002421': 345, '1000002407': 346, '1000002423': 347, '1000009086': 348, '1000002425': 349, '1000003275': 350, '1000013152': 351, '1000002427': 352, '1000002429': 353, '1000002431': 354, '1000003466': 355, '1000003345': 356, '1000002433': 357, '1000002435': 358, '1000002437': 359, '1000002441': 360, '1000002439': 361, '1000002443': 362, '1000003357': 363, '1000002445': 364, '1000002447': 365, '1000015313': 366, '1000002449': 367, '1000002451': 368, '1000002378': 369, '1000002380': 370, '1000002382': 371, '1000002386': 372, '1000008692': 373, '1000002458': 374, '1000020737': 375, '1000003464': 376, '1000002462': 377, '1000020731': 378, '1000020739': 379, '1000003498': 380, '1000002464': 381, '1000002466': 382, '1000002468': 383, '1000003397': 384, '1000020733': 385, '1000008678': 386, '1000002470': 387, '1000015288': 388, '1000002472': 389, '1000002474': 390, '1000015732': 391, '1000002478': 392, '1000002481': 393, '1000002483': 394, '1000020735': 395, '1000002476': 396, '1000002486': 397, '1000002488': 398, '1000020773': 399, '1000002498': 400, '1000002500': 401, '1000002492': 402, '1000002496': 403, '1000002490': 404, '1000020743': 405, '1000012563': 406, '1000012561': 407, '1000012569': 408, '1000012573': 409, '1000012571': 410, '1000012567': 411, '1000012577': 412, '1000012579': 413, '1000012565': 414, '1000012581': 415, '1000012518': 416, '1000012520': 417, '1000012522': 418, '1000012524': 419, '1000012511': 420, '1000012509': 421, '1000012513': 422, '1000012501': 423, '1000012493': 424, '1000012495': 425, '1000012503': 426, '1000012515': 427, '1000012499': 428, '1000012505': 429, '1000012497': 430, '1000012550': 431, '1000012552': 432, '1000015623': 433, '1000012548': 434, '1000012540': 435, '1000012544': 436, '1000012554': 437, '1000012558': 438, '1000012610': 439, '1000019748': 440, '1000012546': 441, '1000012556': 442, '1000012542': 443, '1000015325': 444, '1000012529': 445, '1000012533': 446, '1000012537': 447, '1000012527': 448, '1000012531': 449, '1000015436': 450, '1000015432': 451, '1000015428': 452, '1000015426': 453, '1000005410': 454, '1000005412': 455, '1000005414': 456, '1000012859': 457, '1000008045': 458, '1000005422': 459, '1000007257': 460, '1000005426': 461, '1000005428': 462, '1000005430': 463, '1000005432': 464, '1000005460': 465, '1000005434': 466, '1000005436': 467, '1000005438': 468, '1000005440': 469, '1000008670': 470, '1000005448': 471, '1000005450': 472, '1000005452': 473, '1000005454': 474, '1000009912': 475, '1000009118': 476, '1000005307': 477, '1000006181': 478, '1000008134': 479, '1000008049': 480, '1000005313': 481, '1000005315': 482, '1000005317': 483, '1000007365': 484, '1000005319': 485, '1000005463': 486, '1000007967': 487, '1000005465': 488, '1000005467': 489, '1000005469': 490, '1000005471': 491, '1000005473': 492, '1000005481': 493, '1000005475': 494, '1000005477': 495, '1000005479': 496, '1000007316': 497, '1000005483': 498, '1000006196': 499, '1000005485': 500, '1000005487': 501, '1000005489': 502, '1000005491': 503, '1000005493': 504, '1000006187': 505, '1000005495': 506, '1000008365': 507, '1000005497': 508, '1000005499': 509, '1000005527': 510, '1000005501': 511, '1000006198': 512, '1000005503': 513, '1000005507': 514, '1000005509': 515, '1000005511': 516, '1000005513': 517, '1000005515': 518, '1000006200': 519, '1000006202': 520, '1000006190': 521, '1000005517': 522, '1000005521': 523, '1000005523': 524, '1000005525': 525, '1000005531': 526, '1000005533': 527, '1000005535': 528, '1000005537': 529, '1000008051': 530, '1000017195': 531, '1000005270': 532, '1000005272': 533, '1000005274': 534, '1000005276': 535, '1000005278': 536, '1000005280': 537, '1000005282': 538, '1000005284': 539, '1000007367': 540, '1000005288': 541, '1000006185': 542, '1000006173': 543, '1000005290': 544, '1000005292': 545, '1000017193': 546, '1000005294': 547, '1000005296': 548, '1000005300': 549, '1000005302': 550, '1000008537': 551, '1000008545': 552, '1000008543': 553, '1000008058': 554, '1000008533': 555, '1000008531': 556, '1000008060': 557, '1000008539': 558, '1000008535': 559, '1000008062': 560, '1000008064': 561, '1000009561': 562, '1000008541': 563, '1000008066': 564, '1000005540': 565, '1000006160': 566, '1000005542': 567, '1000005544': 568, '1000005545': 569, '1000005547': 570, '1000006183': 571, '1000005549': 572, '1000006162': 573, '1000005552': 574, '1000005556': 575, '1000005558': 576, '1000005560': 577, '1000005562': 578, '1000005564': 579, '1000017212': 580, '1000005568': 581, '1000005570': 582, '1000005576': 583, '1000005580': 584, '1000007308': 585, '1000009281': 586, '1000005582': 587, '1000007306': 588, '1000005584': 589, '1000006194': 590, '1000005590': 591, '1000005592': 592, '1000005594': 593, '1000005597': 594, '1000017002': 595, '1000008680': 596, '1000005599': 597, '1000005601': 598, '1000005603': 599, '1000015570': 600, '1000005605': 601, '1000005609': 602, '1000017779': 603, '1000005611': 604, '1000007324': 605, '1000006158': 606, '1000005613': 607, '1000005615': 608, '1000005617': 609, '1000005619': 610, '1000005621': 611, '1000007326': 612, '1000005623': 613, '1000009285': 614, '1000005625': 615, '1000005627': 616, '1000005629': 617, '1000005631': 618, '1000005633': 619, '1000005635': 620, '1000005637': 621, '1000005639': 622, '1000005643': 623, '1000005645': 624, '1000005647': 625, '1000005648': 626, '1000005650': 627, '1000009398': 628, '1000015572': 629, '1000005652': 630, '1000005654': 631, '1000009663': 632, '1000007720': 633, '1000005656': 634, '1000005658': 635, '1000005660': 636, '1000009287': 637, '1000007276': 638, '1000012673': 639, '1000005662': 640, '1000005682': 641, '1000008560': 642, '1000012882': 643, '1000005664': 644, '1000009102': 645, '1000005666': 646, '1000005668': 647, '1000005670': 648, '1000005672': 649, '1000005676': 650, '1000005678': 651, '1000005680': 652, '1000005688': 653, '1000005690': 654, '1000007320': 655, '1000005692': 656, '1000005694': 657, '1000005698': 658, '1000005700': 659, '1000009283': 660, '1000005704': 661, '1000005708': 662, '1000005710': 663, '1000005712': 664, '1000005714': 665, '1000009088': 666, '1000005716': 667, '1000005718': 668, '1000005722': 669, '1000005724': 670, '1000005726': 671, '1000005728': 672, '1000005730': 673, '1000005732': 674, '1000005734': 675, '1000005738': 676, '1000005736': 677, '1000005740': 678, '1000005744': 679, '1000005746': 680, '1000009669': 681, '1000012028': 682, '1000007722': 683, '1000005750': 684, '1000005752': 685, '1000005754': 686, '1000005756': 687, '1000005758': 688, '1000005760': 689, '1000005762': 690, '1000005764': 691, '1000005766': 692, '1000005768': 693, '1000005770': 694, '1000005774': 695, '1000005776': 696, '1000005780': 697, '1000005778': 698, '1000005782': 699, '1000005784': 700, '1000005786': 701, '1000005788': 702, '1000005790': 703, '1000005792': 704, '1000005794': 705, '1000005796': 706, '1000005798': 707, '1000005800': 708, '1000022213': 709, '1000022215': 710, '1000005806': 711, '1000005808': 712, '1000017842': 713, '1000022233': 714, '1000005810': 715, '1000005812': 716, '1000005814': 717, '1000005816': 718, '1000009092': 719, '1000005818': 720, '1000005820': 721, '1000005822': 722, '1000005824': 723, '1000014363': 724, '1000005826': 725, '1000022209': 726, '1000005828': 727, '1000005830': 728, '1000005832': 729, '1000005834': 730, '1000005836': 731, '1000005838': 732, '1000005842': 733, '1000005844': 734, '1000005846': 735, '1000005848': 736, '1000005850': 737, '1000005852': 738, '1000005854': 739, '1000005856': 740, '1000005858': 741, '1000005860': 742, '1000005862': 743, '1000005864': 744, '1000005866': 745, '1000005868': 746, '1000005870': 747, '1000008068': 748, '1000005874': 749, '1000005876': 750, '1000005878': 751, '1000005880': 752, '1000005882': 753, '1000005888': 754, '1000005890': 755, '1000005892': 756, '1000005894': 757, '1000022225': 758, '1000005896': 759, '1000017203': 760, '1000005898': 761, '1000005908': 762, '1000005900': 763, '1000005902': 764, '1000005904': 765, '1000005906': 766, '1000005910': 767, '1000005920': 768, '1000005916': 769, '1000005912': 770, '1000005914': 771, '1000013190': 772, '1000017024': 773, '1000015613': 774, '1000005918': 775, '1000005924': 776, '1000005926': 777, '1000005930': 778, '1000005928': 779, '1000005934': 780, '1000005936': 781, '1000005938': 782, '1000005940': 783, '1000005944': 784, '1000005946': 785, '1000005948': 786, '1000005950': 787, '1000009889': 788, '1000005952': 789, '1000005954': 790, '1000022231': 791, '1000005956': 792, '1000013159': 793, '1000005958': 794, '1000005960': 795, '1000005962': 796, '1000005966': 797, '1000005968': 798, '1000005970': 799, '1000005972': 800, '1000007369': 801, '1000005976': 802, '1000017210': 803, '1000005978': 804, '1000005980': 805, '1000005986': 806, '1000005988': 807, '1000005990': 808, '1000005992': 809, '1000022229': 810, '1000005994': 811, '1000005996': 812, '1000015966': 813, '1000005998': 814, '1000006000': 815, '1000006002': 816, '1000006004': 817, '1000006006': 818, '1000009661': 819, '1000006008': 820, '1000006010': 821, '1000006012': 822, '1000006014': 823, '1000006016': 824, '1000006018': 825, '1000006024': 826, '1000006020': 827, '1000006026': 828, '1000006028': 829, '1000006030': 830, '1000006032': 831, '1000006034': 832, '1000006036': 833, '1000006038': 834, '1000006040': 835, '1000006042': 836, '1000015910': 837, '1000017201': 838, '1000006044': 839, '1000006046': 840, '1000017199': 841, '1000009671': 842, '1000006050': 843, '1000006052': 844, '1000006054': 845, '1000006056': 846, '1000006058': 847, '1000006060': 848, '1000013133': 849, '1000013135': 850, '1000013131': 851, '1000013137': 852, '1000015409': 853, '1000013129': 854, '1000005324': 855, '1000005326': 856, '1000005332': 857, '1000010186': 858, '1000005328': 859, '1000005330': 860, '1000012875': 861, '1000008070': 862, '1000005334': 863, '1000005336': 864, '1000005340': 865, '1000005342': 866, '1000005344': 867, '1000005346': 868, '1000005348': 869, '1000012877': 870, '1000005354': 871, '1000005352': 872, '1000005322': 873, '1000005362': 874, '1000005364': 875, '1000005366': 876, '1000005370': 877, '1000013922': 878, '1000005374': 879, '1000012871': 880, '1000005376': 881, '1000022604': 882, '1000005387': 883, '1000013196': 884, '1000022205': 885, '1000005393': 886, '1000005399': 887, '1000005401': 888, '1000022207': 889, '1000005403': 890, '1000015631': 891, '1000012931': 892, '1000005407': 893, '1000009979': 894, '1000012863': 895, '1000009983': 896, '1000009985': 897, '1000009987': 898, '1000009989': 899, '1000009991': 900, '1000013924': 901, '1000009993': 902, '1000009995': 903, '1000012459': 904, '1000009997': 905, '1000009999': 906, '1000010001': 907, '1000010003': 908, '1000010005': 909, '1000010007': 910, '1000010009': 911, '1000010011': 912, '1000010013': 913, '1000010015': 914, '1000010017': 915, '1000010020': 916, '1000010022': 917, '1000010024': 918, '1000010026': 919, '1000010029': 920, '1000010031': 921, '1000010033': 922, '1000010035': 923, '1000010037': 924, '1000010039': 925, '1000016773': 926, '1000010042': 927, '1000010045': 928, '1000010047': 929, '1000010049': 930, '1000010051': 931, '1000010053': 932, '1000010055': 933, '1000010057': 934, '1000010059': 935, '1000010061': 936, '1000010063': 937, '1000010065': 938, '1000010067': 939, '1000010072': 940, '1000010076': 941, '1000010078': 942, '1000010080': 943, '1000010082': 944, '1000010084': 945, '1000010086': 946, '1000010088': 947, '1000010090': 948, '1000010092': 949, '1000010094': 950, '1000017392': 951, '1000017394': 952, '1000017396': 953, '1000017402': 954, '1000017404': 955, '1000017406': 956, '1000017422': 957, '1000017410': 958, '1000017424': 959, '1000017414': 960, '1000017416': 961, '1000017418': 962, '1000017420': 963, '1000022457': 964, '1000017430': 965, '1000017432': 966, '1000017452': 967, '1000022447': 968, '1000017444': 969, '1000017442': 970, '1000017448': 971, '1000017438': 972, '1000017454': 973, '1000017456': 974, '1000017458': 975, '1000017468': 976, '1000017460': 977, '1000017462': 978, '1000017464': 979, '1000017476': 980, '1000022465': 981, '1000017480': 982, '1000017482': 983, '1000022467': 984, '1000017486': 985, '1000017472': 986, '1000017488': 987, '1000017474': 988, '1000017495': 989, '1000017509': 990, '1000017515': 991, '1000017511': 992, '1000017665': 993, '1000017501': 994, '1000017667': 995, '1000022469': 996, '1000017513': 997, '1000017503': 998, '1000017493': 999, '1000017491': 1000, '1000017517': 1001, '1000022454': 1002, '1000022452': 1003, '1000017589': 1004, '1000017581': 1005, '1000017591': 1006, '1000017583': 1007, '1000017595': 1008, '1000017597': 1009, '1000017599': 1010, '1000017605': 1011, '1000017609': 1012, '1000022433': 1013, '1000017611': 1014, '1000017612': 1015, '1000017545': 1016, '1000017549': 1017, '1000017551': 1018, '1000017553': 1019, '1000017555': 1020, '1000017557': 1021, '1000017559': 1022, '1000017563': 1023, '1000017565': 1024, '1000017567': 1025, '1000017571': 1026, '1000017573': 1027, '1000017577': 1028, '1000017669': 1029, '1000017569': 1030, '1000017617': 1031, '1000017643': 1032, '1000017619': 1033, '1000017629': 1034, '1000017631': 1035, '1000017627': 1036, '1000017637': 1037, '1000017633': 1038, '1000015852': 1039, '1000010098': 1040, '1000010100': 1041, '1000010102': 1042, '1000010104': 1043, '1000010106': 1044, '1000010108': 1045, '1000010110': 1046, '1000010112': 1047, '1000010114': 1048, '1000010116': 1049, '1000010118': 1050, '1000015641': 1051, '1000010120': 1052, '1000015850': 1053, '1000013934': 1054, '1000010122': 1055, '1000010124': 1056, '1000015512': 1057, '1000010126': 1058, '1000010128': 1059, '1000015936': 1060, '1000010132': 1061, '1000015658': 1062, '1000010134': 1063, '1000010136': 1064, '1000010139': 1065, '1000010141': 1066, '1000010143': 1067, '1000010145': 1068, '1000010443': 1069, '1000021528': 1070, '1000010149': 1071, '1000010151': 1072, '1000010153': 1073, '1000012595': 1074, '1000010155': 1075, '1000012803': 1076, '1000010162': 1077, '1000010164': 1078, '1000010166': 1079, '1000010168': 1080, '1000010170': 1081, '1000010172': 1082, '1000010174': 1083, '1000010176': 1084, '1000010178': 1085, '1000010180': 1086, '1000010182': 1087, '1000021436': 1088, '1000017844': 1089, '1000018093': 1090, '1000017749': 1091, '1000018097': 1092, '1000017751': 1093, '1000017767': 1094, '1000018091': 1095, '1000018087': 1096, '1000017753': 1097, '1000018113': 1098, '1000018083': 1099, '1000017755': 1100, '1000017757': 1101, '1000017880': 1102, '1000017771': 1103, '1000017773': 1104, '1000017759': 1105, '1000018089': 1106, '1000017761': 1107, '1000018085': 1108, '1000018107': 1109, '1000017763': 1110, '1000018101': 1111, '1000018103': 1112, '1000017765': 1113, '1000017876': 1114, '1000018099': 1115, '1000018199': 1116, '1000018109': 1117, '1000018105': 1118, '1000018080': 1119, '1000017769': 1120, '1000017848': 1121, '1000017775': 1122, '1000018095': 1123, '1000017777': 1124, '1000015870': 1125, '1000017931': 1126, '1000017927': 1127, '1000017935': 1128, '1000007609': 1129, '1000008558': 1130, '1000006129': 1131, '1000017911': 1132, '1000017905': 1133, '1000015872': 1134, '1000015844': 1135, '1000002981': 1136, '1000017929': 1137, '1000015846': 1138, '1000015836': 1139, '1000002964': 1140, '1000002979': 1141, '1000002977': 1142, '1000002975': 1143, '1000022203': 1144, '1000022197': 1145, '1000015838': 1146, '1000017919': 1147, '1000017913': 1148, '1000006131': 1149, '1000002973': 1150, '1000007811': 1151, '1000009934': 1152, '1000002971': 1153, '1000002968': 1154, '1000015840': 1155, '1000009932': 1156, '1000017915': 1157, '1000017907': 1158, '1000012791': 1159, '1000017921': 1160, '1000017923': 1161, '1000017917': 1162, '1000017933': 1163, '1000017925': 1164, '1000015842': 1165, '1000012591': 1166, '1000002962': 1167, '1000017909': 1168, '1000002688': 1169, '1000002792': 1170, '1000002794': 1171, '1000002796': 1172, '1000003534': 1173, '1000002800': 1174, '1000002802': 1175, '1000002804': 1176, '1000009944': 1177, '1000006137': 1178, '1000015708': 1179, '1000002808': 1180, '1000002810': 1181, '1000002814': 1182, '1000002822': 1183, '1000015704': 1184, '1000002818': 1185, '1000002824': 1186, '1000006064': 1187, '1000007414': 1188, '1000016945': 1189, '1000002826': 1190, '1000002832': 1191, '1000016951': 1192, '1000003191': 1193, '1000002995': 1194, '1000002997': 1195, '1000002999': 1196, '1000016947': 1197, '1000003001': 1198, '1000017834': 1199, '1000003003': 1200, '1000003005': 1201, '1000003007': 1202, '1000003009': 1203, '1000003011': 1204, '1000003013': 1205, '1000015894': 1206, '1000012927': 1207, '1000003015': 1208, '1000007700': 1209, '1000017783': 1210, '1000010218': 1211, '1000003019': 1212, '1000003021': 1213, '1000003023': 1214, '1000003025': 1215, '1000009659': 1216, '1000003027': 1217, '1000015902': 1218, '1000003313': 1219, '1000003029': 1220, '1000003031': 1221, '1000009930': 1222, '1000003033': 1223, '1000003035': 1224, '1000013140': 1225, '1000003037': 1226, '1000015890': 1227, '1000015892': 1228, '1000003039': 1229, '1000013142': 1230, '1000015900': 1231, '1000017785': 1232, '1000006141': 1233, '1000016949': 1234, '1000021448': 1235, '1000007594': 1236, '1000007586': 1237, '1000007592': 1238, '1000007590': 1239, '1000007566': 1240, '1000007570': 1241, '1000007574': 1242, '1000007576': 1243, '1000007578': 1244, '1000007580': 1245, '1000007582': 1246, '1000007558': 1247, '1000007560': 1248, '1000007598': 1249, '1000007596': 1250, '1000007600': 1251, '1000007602': 1252, '1000009374': 1253, '1000012787': 1254, '1000002993': 1255, '1000002991': 1256, '1000002989': 1257, '1000002987': 1258, '1000002985': 1259, '1000003315': 1260, '1000012789': 1261, '1000009936': 1262, '1000009938': 1263, '1000007422': 1264, '1000002983': 1265, '1000015678': 1266, '1000008132': 1267, '1000015672': 1268, '1000015682': 1269, '1000015688': 1270, '1000015674': 1271, '1000015686': 1272, '1000010469': 1273, '1000007543': 1274, '1000009291': 1275, '1000007431': 1276, '1000007433': 1277, '1000010463': 1278, '1000007437': 1279, '1000015680': 1280, '1000015684': 1281, '1000015670': 1282, '1000007545': 1283, '1000010465': 1284, '1000010461': 1285, '1000007547': 1286, '1000007443': 1287, '1000021458': 1288, '1000007441': 1289, '1000007439': 1290, '1000007429': 1291, '1000010467': 1292, '1000007447': 1293, '1000017987': 1294, '1000017977': 1295, '1000017995': 1296, '1000018019': 1297, '1000017808': 1298, '1000018031': 1299, '1000018074': 1300, '1000018066': 1301, '1000017788': 1302, '1000017979': 1303, '1000017981': 1304, '1000017790': 1305, '1000017983': 1306, '1000018045': 1307, '1000017971': 1308, '1000017957': 1309, '1000017798': 1310, '1000017802': 1311, '1000017804': 1312, '1000017806': 1313, '1000017836': 1314, '1000017810': 1315, '1000017818': 1316, '1000017820': 1317, '1000017812': 1318, '1000017822': 1319, '1000017816': 1320, '1000017838': 1321, '1000018043': 1322, '1000017814': 1323, '1000017826': 1324, '1000017985': 1325, '1000017951': 1326, '1000018047': 1327, '1000017961': 1328, '1000017959': 1329, '1000018051': 1330, '1000017989': 1331, '1000017792': 1332, '1000017965': 1333, '1000017991': 1334, '1000018062': 1335, '1000017975': 1336, '1000018049': 1337, '1000017967': 1338, '1000018041': 1339, '1000018056': 1340, '1000017993': 1341, '1000018009': 1342, '1000018021': 1343, '1000017828': 1344, '1000017830': 1345, '1000017997': 1346, '1000017832': 1347, '1000018023': 1348, '1000018029': 1349, '1000017949': 1350, '1000018011': 1351, '1000017969': 1352, '1000017999': 1353, '1000018064': 1354, '1000017973': 1355, '1000018037': 1356, '1000018025': 1357, '1000017955': 1358, '1000018072': 1359, '1000018035': 1360, '1000017947': 1361, '1000018039': 1362, '1000017963': 1363, '1000018013': 1364, '1000018015': 1365, '1000018070': 1366, '1000018027': 1367, '1000017945': 1368, '1000018017': 1369, '1000018005': 1370, '1000002900': 1371, '1000002898': 1372, '1000002896': 1373, '1000002894': 1374, '1000002892': 1375, '1000002904': 1376, '1000009372': 1377, '1000002888': 1378, '1000002890': 1379, '1000009948': 1380, '1000002902': 1381, '1000002886': 1382, '1000009946': 1383, '1000007730': 1384, '1000003328': 1385, '1000002884': 1386, '1000002882': 1387, '1000002880': 1388, '1000007338': 1389, '1000007342': 1390, '1000007345': 1391, '1000007347': 1392, '1000007361': 1393, '1000007349': 1394, '1000007351': 1395, '1000007353': 1396, '1000007355': 1397, '1000007357': 1398, '1000007359': 1399, '1000012896': 1400, '1000012900': 1401, '1000012898': 1402, '1000003317': 1403, '1000002878': 1404, '1000002830': 1405, '1000010453': 1406, '1000002844': 1407, '1000002876': 1408, '1000010451': 1409, '1000002874': 1410, '1000002862': 1411, '1000004580': 1412, '1000010459': 1413, '1000002805': 1414, '1000002866': 1415, '1000002842': 1416, '1000002864': 1417, '1000010457': 1418, '1000002858': 1419, '1000002860': 1420, '1000002840': 1421, '1000002850': 1422, '1000010455': 1423, '1000010447': 1424, '1000002856': 1425, '1000008672': 1426, '1000012657': 1427, '1000009132': 1428, '1000009376': 1429, '1000002852': 1430, '1000002827': 1431, '1000002838': 1432, '1000002872': 1433, '1000017862': 1434, '1000017855': 1435, '1000017859': 1436, '1000017864': 1437, '1000017866': 1438, '1000017868': 1439, '1000017870': 1440, '1000017857': 1441, '1000017878': 1442, '1000017872': 1443, '1000007318': 1444, '1000022512': 1445, '1000002790': 1446, '1000017893': 1447, '1000017903': 1448, '1000008367': 1449, '1000007786': 1450, '1000008684': 1451, '1000002786': 1452, '1000022516': 1453, '1000022514': 1454, '1000017673': 1455, '1000017897': 1456, '1000002776': 1457, '1000012434': 1458, '1000002783': 1459, '1000009665': 1460, '1000002788': 1461, '1000007835': 1462, '1000015666': 1463, '1000015668': 1464, '1000022508': 1465, '1000009952': 1466, '1000017883': 1467, '1000009950': 1468, '1000017846': 1469, '1000019464': 1470, '1000017891': 1471, '1000017887': 1472, '1000017899': 1473, '1000002781': 1474, '1000017901': 1475, '1000017895': 1476, '1000022510': 1477, '1000012700': 1478, '1000022518': 1479, '1000009667': 1480, '1000002774': 1481, '1000002758': 1482, '1000002755': 1483, '1000002749': 1484, '1000002747': 1485, '1000002741': 1486, '1000002739': 1487, '1000002737': 1488, '1000002735': 1489, '1000007377': 1490, '1000007477': 1491, '1000015539': 1492, '1000015537': 1493, '1000015527': 1494, '1000002729': 1495, '1000002727': 1496, '1000015533': 1497, '1000012428': 1498, '1000015545': 1499, '1000015547': 1500, '1000015543': 1501, '1000015523': 1502, '1000003326': 1503, '1000012430': 1504, '1000002718': 1505, '1000015521': 1506, '1000002723': 1507, '1000006062': 1508, '1000015535': 1509, '1000015551': 1510, '1000002713': 1511, '1000003484': 1512, '1000015643': 1513, '1000002711': 1514, '1000002703': 1515, '1000010473': 1516, '1000015518': 1517, '1000015541': 1518, '1000007857': 1519, '1000009956': 1520, '1000015549': 1521, '1000002699': 1522, '1000009954': 1523, '1000015531': 1524, '1000015553': 1525, '1000002695': 1526, '1000015520': 1527, '1000002690': 1528, '1000015525': 1529, '1000010428': 1530, '1000015413': 1531, '1000010404': 1532, '1000015091': 1533, '1000010408': 1534, '1000015609': 1535, '1000010410': 1536, '1000010412': 1537, '1000010414': 1538, '1000010416': 1539, '1000010418': 1540, '1000010538': 1541, '1000010540': 1542, '1000010542': 1543, '1000010544': 1544, '1000010547': 1545, '1000010549': 1546, '1000010551': 1547, '1000010359': 1548, '1000010361': 1549, '1000010365': 1550, '1000010377': 1551, '1000010379': 1552, '1000010383': 1553, '1000010385': 1554, '1000010387': 1555, '1000010389': 1556, '1000010391': 1557, '1000010393': 1558, '1000010399': 1559, '1000010401': 1560, '1000010556': 1561, '1000010554': 1562, '1000018207': 1563, '1000018209': 1564, '1000018211': 1565, '1000018213': 1566, '1000018219': 1567, '1000018221': 1568, '1000008573': 1569, '1000008633': 1570, '1000008577': 1571, '1000001513': 1572, '1000008579': 1573, '1000001515': 1574, '1000001503': 1575, '1000008595': 1576, '1000001505': 1577, '1000008597': 1578, '1000008599': 1579, '1000001533': 1580, '1000001531': 1581, '1000008601': 1582, '1000001535': 1583, '1000001398': 1584, '1000001401': 1585, '1000001409': 1586, '1000001417': 1587, '1000008607': 1588, '1000001415': 1589, '1000001412': 1590, '1000008611': 1591, '1000001406': 1592, '1000008617': 1593, '1000008619': 1594, '1000001575': 1595, '1000001423': 1596, '1000001429': 1597, '1000001436': 1598, '1000008621': 1599, '1000001431': 1600, '1000001393': 1601, '1000001361': 1602, '1000001381': 1603, '1000001388': 1604, '1000001395': 1605, '1000010438': 1606, '1000001546': 1607, '1000008623': 1608, '1000001564': 1609, '1000001446': 1610, '1000018116': 1611, '1000018126': 1612, '1000018122': 1613, '1000018118': 1614, '1000018124': 1615, '1000018130': 1616, '1000018128': 1617, '1000012997': 1618, '1000018132': 1619, '1000018120': 1620, '1000012426': 1621, '1000012408': 1622, '1000012410': 1623, '1000012412': 1624, '1000012606': 1625, '1000012414': 1626, '1000015664': 1627, '1000012416': 1628, '1000012418': 1629, '1000012420': 1630, '1000013165': 1631, '1000012589': 1632, '1000015423': 1633, '1000012421': 1634, '1000012423': 1635, '1000016775': 1636, '1000001844': 1637, '1000001838': 1638, '1000015454': 1639, '1000018144': 1640, '1000015452': 1641, '1000001840': 1642, '1000015472': 1643, '1000015462': 1644, '1000015468': 1645, '1000015460': 1646, '1000015470': 1647, '1000015474': 1648, '1000015464': 1649, '1000015476': 1650, '1000018146': 1651, '1000018140': 1652, '1000018142': 1653, '1000018138': 1654, '1000001842': 1655, '1000015456': 1656, '1000012971': 1657, '1000012975': 1658, '1000012981': 1659, '1000012977': 1660, '1000016071': 1661, '1000013119': 1662, '1000012973': 1663, '1000013117': 1664, '1000012979': 1665, '1000001703': 1666, '1000001704': 1667, '1000001705': 1668, '1000001709': 1669, '1000015662': 1670, '1000015391': 1671, '1000019758': 1672, '1000019570': 1673, '1000019754': 1674, '1000019572': 1675, '1000019574': 1676, '1000019576': 1677, '1000019578': 1678, '1000019580': 1679, '1000019756': 1680, '1000019582': 1681, '1000019584': 1682, '1000019586': 1683, '1000022311': 1684, '1000019588': 1685, '1000003336': 1686, '1000001829': 1687, '1000001831': 1688, '1000015736': 1689, '1000015734': 1690, '1000012991': 1691, '1000012983': 1692, '1000018148': 1693, '1000018150': 1694, '1000012995': 1695, '1000015706': 1696, '1000012987': 1697, '1000013038': 1698, '1000012985': 1699, '1000012993': 1700, '1000012989': 1701, '1000012965': 1702, '1000012967': 1703, '1000020675': 1704, '1000012969': 1705, '1000018156': 1706, '1000001716': 1707, '1000018152': 1708, '1000018154': 1709, '1000018158': 1710, '1000001721': 1711, '1000001723': 1712, '1000001725': 1713, '1000001727': 1714, '1000013121': 1715, '1000001729': 1716, '1000001731': 1717, '1000001733': 1718, '1000003548': 1719, '1000001735': 1720, '1000003359': 1721, '1000003361': 1722, '1000001737': 1723, '1000001739': 1724, '1000001741': 1725, '1000018162': 1726, '1000001743': 1727, '1000018164': 1728, '1000018160': 1729, '1000012891': 1730, '1000012889': 1731, '1000001759': 1732, '1000001761': 1733, '1000001763': 1734, '1000003363': 1735, '1000003517': 1736, '1000001765': 1737, '1000018166': 1738, '1000001767': 1739, '1000001769': 1740, '1000001771': 1741, '1000001773': 1742, '1000001775': 1743, '1000003391': 1744, '1000018168': 1745, '1000001746': 1746, '1000001748': 1747, '1000001750': 1748, '1000001752': 1749, '1000001756': 1750, '1000001849': 1751, '1000001851': 1752, '1000015832': 1753, '1000001853': 1754, '1000018176': 1755, '1000003480': 1756, '1000018181': 1757, '1000001855': 1758, '1000001857': 1759, '1000001859': 1760, '1000001863': 1761, '1000001861': 1762, '1000015620': 1763, '1000018185': 1764, '1000018178': 1765, '1000003228': 1766, '1000018183': 1767, '1000015834': 1768, '1000012961': 1769, '1000012963': 1770, '1000012999': 1771, '1000013001': 1772, '1000013003': 1773, '1000013031': 1774, '1000013027': 1775, '1000013005': 1776, '1000013007': 1777, '1000013009': 1778, '1000013011': 1779, '1000013013': 1780, '1000013015': 1781, '1000013017': 1782, '1000013040': 1783, '1000013029': 1784, '1000016579': 1785, '1000019468': 1786, '1000019470': 1787, '1000013019': 1788, '1000013021': 1789, '1000013033': 1790, '1000013023': 1791, '1000013025': 1792, '1000018203': 1793, '1000015698': 1794, '1000001778': 1795, '1000018174': 1796, '1000001780': 1797, '1000007449': 1798, '1000015327': 1799, '1000004655': 1800, '1000018172': 1801, '1000001784': 1802, '1000003268': 1803, '1000001786': 1804, '1000015828': 1805, '1000001788': 1806, '1000018170': 1807, '1000012941': 1808, '1000015258': 1809, '1000012949': 1810, '1000012951': 1811, '1000012953': 1812, '1000015262': 1813, '1000015260': 1814, '1000012955': 1815, '1000012957': 1816, '1000012364': 1817, '1000012366': 1818, '1000012162': 1819, '1000012164': 1820, '1000012168': 1821, '1000012170': 1822, '1000012186': 1823, '1000012192': 1824, '1000012176': 1825, '1000012195': 1826, '1000012197': 1827, '1000012201': 1828, '1000012203': 1829, '1000013055': 1830, '1000012213': 1831, '1000012217': 1832, '1000012219': 1833, '1000012221': 1834, '1000012249': 1835, '1000012253': 1836, '1000012243': 1837, '1000012259': 1838, '1000012245': 1839, '1000012255': 1840, '1000012251': 1841, '1000012267': 1842, '1000012269': 1843, '1000012271': 1844, '1000012273': 1845, '1000012277': 1846, '1000012275': 1847, '1000012785': 1848, '1000012281': 1849, '1000012283': 1850, '1000012285': 1851, '1000012287': 1852, '1000012289': 1853, '1000012291': 1854, '1000012293': 1855, '1000012295': 1856, '1000012297': 1857, '1000012299': 1858, '1000012301': 1859, '1000012226': 1860, '1000012238': 1861, '1000012228': 1862, '1000012234': 1863, '1000012236': 1864, '1000012230': 1865, '1000012361': 1866, '1000012359': 1867, '1000020863': 1868, '1000012306': 1869, '1000012308': 1870, '1000020860': 1871, '1000012312': 1872, '1000012356': 1873, '1000012314': 1874, '1000012318': 1875, '1000012320': 1876, '1000012324': 1877, '1000012304': 1878, '1000012334': 1879, '1000020867': 1880, '1000020865': 1881, '1000012336': 1882, '1000012326': 1883, '1000012338': 1884, '1000012328': 1885, '1000012340': 1886, '1000012342': 1887, '1000012344': 1888, '1000012346': 1889, '1000012348': 1890, '1000012330': 1891, '1000012350': 1892, '1000012332': 1893, '1000012352': 1894, '1000012354': 1895, '1000012262': 1896, '1000012264': 1897, '1000018225': 1898, '1000018227': 1899, '1000018229': 1900, '1000018233': 1901, '1000018235': 1902, '1000018237': 1903, '1000018239': 1904, '1000018242': 1905, '1000018244': 1906, '1000018246': 1907, '1000018248': 1908, '1000018250': 1909, '1000018252': 1910, '1000018254': 1911, '1000018256': 1912, '1000018263': 1913, '1000003775': 1914, '1000003731': 1915, '1000003851': 1916, '1000016850': 1917, '1000003735': 1918, '1000003737': 1919, '1000016789': 1920, '1000016791': 1921, '1000012801': 1922, '1000003743': 1923, '1000003745': 1924, '1000003747': 1925, '1000015516': 1926, '1000015904': 1927, '1000003849': 1928, '1000003751': 1929, '1000016847': 1930, '1000016849': 1931, '1000003757': 1932, '1000003881': 1933, '1000003763': 1934, '1000003765': 1935, '1000013105': 1936, '1000016892': 1937, '1000016900': 1938, '1000018054': 1939, '1000016902': 1940, '1000016904': 1941, '1000016906': 1942, '1000016908': 1943, '1000016910': 1944, '1000016912': 1945, '1000017939': 1946, '1000017941': 1947, '1000017943': 1948, '1000016914': 1949, '1000003593': 1950, '1000015824': 1951, '1000015822': 1952, '1000003587': 1953, '1000015826': 1954, '1000015820': 1955, '1000007387': 1956, '1000009120': 1957, '1000015938': 1958, '1000003589': 1959, '1000003853': 1960, '1000003861': 1961, '1000004650': 1962, '1000003591': 1963, '1000003855': 1964, '1000015857': 1965, '1000015854': 1966, '1000003620': 1967, '1000003596': 1968, '1000003857': 1969, '1000003600': 1970, '1000003602': 1971, '1000003612': 1972, '1000003835': 1973, '1000003604': 1974, '1000015290': 1975, '1000003606': 1976, '1000003608': 1977, '1000003610': 1978, '1000003859': 1979, '1000003616': 1980, '1000003618': 1981, '1000003796': 1982, '1000015724': 1983, '1000003798': 1984, '1000015863': 1985, '1000003800': 1986, '1000003833': 1987, '1000003867': 1988, '1000003804': 1989, '1000003806': 1990, '1000003802': 1991, '1000003810': 1992, '1000003808': 1993, '1000003813': 1994, '1000003815': 1995, '1000015588': 1996, '1000003817': 1997, '1000015861': 1998, '1000003899': 1999, '1000003823': 2000, '1000015859': 2001, '1000003827': 2002, '1000003825': 2003, '1000003787': 2004, '1000015865': 2005, '1000003789': 2006, '1000003791': 2007, '1000003829': 2008, '1000003793': 2009, '1000018060': 2010, '1000016916': 2011, '1000018058': 2012, '1000016918': 2013, '1000016920': 2014, '1000016922': 2015, '1000018068': 2016, '1000003659': 2017, '1000007809': 2018, '1000003623': 2019, '1000003625': 2020, '1000003627': 2021, '1000003629': 2022, '1000003631': 2023, '1000004648': 2024, '1000003635': 2025, '1000003637': 2026, '1000003639': 2027, '1000003633': 2028, '1000003641': 2029, '1000003643': 2030, '1000003645': 2031, '1000003831': 2032, '1000003647': 2033, '1000003649': 2034, '1000003875': 2035, '1000003873': 2036, '1000003651': 2037, '1000003653': 2038, '1000003655': 2039, '1000003657': 2040, '1000003684': 2041, '1000003662': 2042, '1000003672': 2043, '1000007259': 2044, '1000003664': 2045, '1000003666': 2046, '1000003668': 2047, '1000015660': 2048, '1000003670': 2049, '1000003676': 2050, '1000003678': 2051, '1000004646': 2052, '1000003837': 2053, '1000003680': 2054, '1000003682': 2055, '1000015276': 2056, '1000003713': 2057, '1000007247': 2058, '1000003687': 2059, '1000003689': 2060, '1000003691': 2061, '1000003693': 2062, '1000003695': 2063, '1000003711': 2064, '1000003697': 2065, '1000020717': 2066, '1000003699': 2067, '1000003701': 2068, '1000003863': 2069, '1000003703': 2070, '1000003877': 2071, '1000015268': 2072, '1000013093': 2073, '1000003705': 2074, '1000003707': 2075, '1000003709': 2076, '1000003728': 2077, '1000003716': 2078, '1000003843': 2079, '1000003718': 2080, '1000003720': 2081, '1000003724': 2082, '1000003726': 2083, '1000016924': 2084, '1000016926': 2085, '1000016928': 2086, '1000016934': 2087, '1000016936': 2088, '1000016938': 2089, '1000016940': 2090, '1000003584': 2091, '1000003566': 2092, '1000003568': 2093, '1000015282': 2094, '1000003570': 2095, '1000003572': 2096, '1000003839': 2097, '1000003580': 2098, '1000006143': 2099, '1000015284': 2100, '1000003578': 2101, '1000003582': 2102, '1000003784': 2103, '1000003782': 2104, '1000003841': 2105, '1000003885': 2106, '1000003780': 2107, '1000003778': 2108, '1000015514': 2109, '1000013222': 2110, '1000013224': 2111, '1000013228': 2112, '1000013230': 2113, '1000013232': 2114, '1000013234': 2115, '1000013237': 2116, '1000013239': 2117, '1000013241': 2118, '1000013243': 2119, '1000013249': 2120, '1000013245': 2121, '1000013247': 2122, '1000013251': 2123, '1000013254': 2124, '1000013256': 2125, '1000013258': 2126, '1000013260': 2127, '1000013262': 2128, '1000013264': 2129, '1000013267': 2130, '1000013273': 2131, '1000013277': 2132, '1000013279': 2133, '1000013281': 2134, '1000013283': 2135, '1000013285': 2136, '1000013291': 2137, '1000013293': 2138, '1000013295': 2139, '1000013297': 2140, '1000013302': 2141, '1000013304': 2142, '1000013306': 2143, '1000013308': 2144, '1000013310': 2145, '1000013312': 2146, '1000013314': 2147, '1000013318': 2148, '1000013320': 2149, '1000013324': 2150, '1000013327': 2151, '1000013329': 2152, '1000013349': 2153, '1000013351': 2154, '1000013331': 2155, '1000013353': 2156, '1000013337': 2157, '1000013339': 2158, '1000013341': 2159, '1000013343': 2160, '1000013355': 2161, '1000013347': 2162, '1000013362': 2163, '1000013364': 2164, '1000013366': 2165, '1000013385': 2166, '1000013387': 2167, '1000013389': 2168, '1000013373': 2169, '1000013375': 2170, '1000013379': 2171, '1000013377': 2172, '1000013371': 2173, '1000013381': 2174, '1000013383': 2175, '1000013391': 2176, '1000013394': 2177, '1000013396': 2178, '1000013400': 2179, '1000013398': 2180, '1000013402': 2181, '1000013404': 2182, '1000013406': 2183, '1000013412': 2184, '1000013408': 2185, '1000013410': 2186, '1000013414': 2187, '1000013417': 2188, '1000013419': 2189, '1000013421': 2190, '1000013423': 2191, '1000013425': 2192, '1000000245': 2193, '1000000239': 2194, '1000000243': 2195, '1000000237': 2196, '1000017348': 2197, '1000017346': 2198, '1000017350': 2199, '1000000654': 2200, '1000000662': 2201, '1000000664': 2202, '1000017358': 2203, '1000000721': 2204, '1000000715': 2205, '1000000717': 2206, '1000001141': 2207, '1000001143': 2208, '1000000874': 2209, '1000000695': 2210, '1000000681': 2211, '1000000671': 2212, '1000000683': 2213, '1000017366': 2214, '1000000673': 2215, '1000017374': 2216, '1000017364': 2217, '1000017360': 2218, '1000000685': 2219, '1000000687': 2220, '1000000677': 2221, '1000017362': 2222, '1000000679': 2223, '1000017334': 2224, '1000017324': 2225, '1000000253': 2226, '1000000251': 2227, '1000000249': 2228, '1000017326': 2229, '1000017332': 2230, '1000017328': 2231, '1000017330': 2232, '1000017344': 2233, '1000017336': 2234, '1000000893': 2235, '1000015180': 2236, '1000017322': 2237, '1000000876': 2238, '1000000863': 2239, '1000000864': 2240, '1000000896': 2241, '1000000884': 2242, '1000000869': 2243, '1000000856': 2244, '1000000857': 2245, '1000000878': 2246, '1000000851': 2247, '1000000849': 2248, '1000000630': 2249, '1000004692': 2250, '1000000612': 2251, '1000000618': 2252, '1000000638': 2253, '1000000647': 2254, '1000000614': 2255, '1000000846': 2256, '1000000616': 2257, '1000000968': 2258, '1000000624': 2259, '1000015184': 2260, '1000000636': 2261, '1000000622': 2262, '1000000643': 2263, '1000003921': 2264, '1000003919': 2265, '1000003917': 2266, '1000015635': 2267, '1000017316': 2268, '1000000710': 2269, '1000017312': 2270, '1000000702': 2271, '1000000700': 2272, '1000006149': 2273, '1000000704': 2274, '1000000595': 2275, '1000000587': 2276, '1000000591': 2277, '1000000593': 2278, '1000001637': 2279, '1000006555': 2280, '1000000589': 2281, '1000000732': 2282, '1000000724': 2283, '1000000730': 2284, '1000000726': 2285, '1000000737': 2286, '1000000739': 2287, '1000000741': 2288, '1000017308': 2289, '1000000743': 2290, '1000000601': 2291, '1000000605': 2292, '1000000607': 2293, '1000016018': 2294, '1000016581': 2295, '1000016591': 2296, '1000003956': 2297, '1000016593': 2298, '1000016595': 2299, '1000015647': 2300, '1000003963': 2301, '1000003968': 2302, '1000004021': 2303, '1000004032': 2304, '1000004030': 2305, '1000016601': 2306, '1000003974': 2307, '1000016617': 2308, '1000016583': 2309, '1000016605': 2310, '1000003979': 2311, '1000016607': 2312, '1000016585': 2313, '1000016603': 2314, '1000016609': 2315, '1000016587': 2316, '1000016611': 2317, '1000016613': 2318, '1000003983': 2319, '1000009084': 2320, '1000016974': 2321, '1000003988': 2322, '1000003999': 2323, '1000004027': 2324, '1000016615': 2325, '1000008381': 2326, '1000016589': 2327, '1000012602': 2328, '1000012600': 2329, '1000012620': 2330, '1000007409': 2331, '1000004044': 2332, '1000004047': 2333, '1000016619': 2334, '1000004092': 2335, '1000004050': 2336, '1000016621': 2337, '1000016623': 2338, '1000004052': 2339, '1000016645': 2340, '1000004055': 2341, '1000004060': 2342, '1000016625': 2343, '1000007261': 2344, '1000004065': 2345, '1000016627': 2346, '1000016629': 2347, '1000016631': 2348, '1000004070': 2349, '1000016976': 2350, '1000004074': 2351, '1000016633': 2352, '1000016635': 2353, '1000016637': 2354, '1000016639': 2355, '1000016649': 2356, '1000004081': 2357, '1000016651': 2358, '1000016641': 2359, '1000016643': 2360, '1000004095': 2361, '1000004105': 2362, '1000013144': 2363, '1000004223': 2364, '1000004108': 2365, '1000004221': 2366, '1000004111': 2367, '1000004173': 2368, '1000004177': 2369, '1000004217': 2370, '1000004219': 2371, '1000004225': 2372, '1000004240': 2373, '1000004248': 2374, '1000004238': 2375, '1000004236': 2376, '1000004234': 2377, '1000004232': 2378, '1000004228': 2379, '1000015561': 2380, '1000004230': 2381, '1000004263': 2382, '1000004253': 2383, '1000004261': 2384, '1000004255': 2385, '1000010214': 2386, '1000004251': 2387, '1000004259': 2388, '1000004257': 2389, '1000004270': 2390, '1000004266': 2391, '1000008476': 2392, '1000004268': 2393, '1000016653': 2394, '1000016655': 2395, '1000016657': 2396, '1000004273': 2397, '1000004281': 2398, '1000004298': 2399, '1000016660': 2400, '1000004305': 2401, '1000004301': 2402, '1000004307': 2403, '1000016668': 2404, '1000004303': 2405, '1000016670': 2406, '1000004311': 2407, '1000007804': 2408, '1000004277': 2409, '1000004296': 2410, '1000016664': 2411, '1000004313': 2412, '1000004309': 2413, '1000016662': 2414, '1000016672': 2415, '1000004279': 2416, '1000016943': 2417, '1000016666': 2418, '1000004275': 2419, '1000016744': 2420, '1000016746': 2421, '1000016742': 2422, '1000016750': 2423, '1000016752': 2424, '1000016740': 2425, '1000016748': 2426, '1000016684': 2427, '1000016686': 2428, '1000016688': 2429, '1000016690': 2430, '1000016692': 2431, '1000016694': 2432, '1000016696': 2433, '1000016700': 2434, '1000016702': 2435, '1000016704': 2436, '1000016706': 2437, '1000016708': 2438, '1000016710': 2439, '1000016712': 2440, '1000016714': 2441, '1000016716': 2442, '1000016722': 2443, '1000016724': 2444, '1000016726': 2445, '1000016728': 2446, '1000016730': 2447, '1000016732': 2448, '1000016734': 2449, '1000016736': 2450, '1000016738': 2451, '1000004318': 2452, '1000004316': 2453, '1000016674': 2454, '1000016676': 2455, '1000004320': 2456, '1000016678': 2457, '1000016680': 2458, '1000008105': 2459, '1000004325': 2460, '1000004327': 2461, '1000004329': 2462, '1000004331': 2463, '1000004351': 2464, '1000016754': 2465, '1000004335': 2466, '1000004337': 2467, '1000004339': 2468, '1000004341': 2469, '1000004343': 2470, '1000004345': 2471, '1000004349': 2472, '1000004353': 2473, '1000004356': 2474, '1000004359': 2475, '1000004361': 2476, '1000004363': 2477, '1000004367': 2478, '1000011448': 2479, '1000017189': 2480, '1000011456': 2481, '1000011454': 2482, '1000011450': 2483, '1000011470': 2484, '1000011460': 2485, '1000011462': 2486, '1000011464': 2487, '1000011466': 2488, '1000011468': 2489, '1000004530': 2490, '1000003934': 2491, '1000003992': 2492, '1000015331': 2493, '1000003955': 2494, '1000003960': 2495, '1000003940': 2496, '1000003938': 2497, '1000004210': 2498, '1000003967': 2499, '1000003971': 2500, '1000015912': 2501, '1000003964': 2502, '1000008094': 2503, '1000003952': 2504, '1000004582': 2505, '1000004006': 2506, '1000013150': 2507, '1000003973': 2508, '1000003985': 2509, '1000003980': 2510, '1000003945': 2511, '1000003989': 2512, '1000003997': 2513, '1000004012': 2514, '1000017187': 2515, '1000004009': 2516, '1000003949': 2517, '1000004002': 2518, '1000004000': 2519, '1000003977': 2520, '1000004014': 2521, '1000004085': 2522, '1000004056': 2523, '1000004019': 2524, '1000004526': 2525, '1000004016': 2526, '1000004067': 2527, '1000004024': 2528, '1000004041': 2529, '1000004079': 2530, '1000004035': 2531, '1000004088': 2532, '1000004090': 2533, '1000004061': 2534, '1000007833': 2535, '1000008363': 2536, '1000004137': 2537, '1000004142': 2538, '1000012869': 2539, '1000004159': 2540, '1000004145': 2541, '1000004151': 2542, '1000004148': 2543, '1000004154': 2544, '1000004157': 2545, '1000011473': 2546, '1000011475': 2547, '1000011427': 2548, '1000013218': 2549, '1000011435': 2550, '1000012886': 2551, '1000011443': 2552, '1000021450': 2553, '1000011445': 2554, '1000011437': 2555, '1000011429': 2556, '1000011431': 2557, '1000011439': 2558, '1000011433': 2559, '1000011423': 2560, '1000004161': 2561, '1000004167': 2562, '1000004591': 2563, '1000004176': 2564, '1000004164': 2565, '1000004212': 2566, '1000004171': 2567, '1000004192': 2568, '1000004187': 2569, '1000004184': 2570, '1000004181': 2571, '1000011420': 2572, '1000016073': 2573, '1000022312': 2574, '1000011418': 2575, '1000022309': 2576, '1000003947': 2577, '1000004004': 2578, '1000003943': 2579, '1000003950': 2580, '1000003957': 2581, '1000004682': 2582, '1000004540': 2583, '1000003986': 2584, '1000004022': 2585, '1000007984': 2586, '1000004097': 2587, '1000004115': 2588, '1000004135': 2589, '1000017742': 2590, '1000004536': 2591, '1000004141': 2592, '1000004147': 2593, '1000011383': 2594, '1000004153': 2595, '1000004163': 2596, '1000004169': 2597, '1000004676': 2598, '1000004174': 2599, '1000011391': 2600, '1000011397': 2601, '1000011393': 2602, '1000011401': 2603, '1000011403': 2604, '1000022303': 2605, '1000011395': 2606, '1000011405': 2607, '1000011407': 2608, '1000011409': 2609, '1000011411': 2610, '1000011415': 2611, '1000011386': 2612, '1000022305': 2613, '1000011388': 2614, '1000022307': 2615, '1000013443': 2616, '1000013445': 2617, '1000013447': 2618, '1000013451': 2619, '1000013453': 2620, '1000013462': 2621, '1000013470': 2622, '1000013472': 2623, '1000013476': 2624, '1000013478': 2625, '1000013480': 2626, '1000013487': 2627, '1000013499': 2628, '1000013561': 2629, '1000013565': 2630, '1000013567': 2631, '1000013577': 2632, '1000013587': 2633, '1000013591': 2634, '1000013597': 2635, '1000013599': 2636, '1000013603': 2637, '1000013912': 2638, '1000013617': 2639, '1000013631': 2640, '1000013634': 2641, '1000013640': 2642, '1000013645': 2643, '1000013649': 2644, '1000013653': 2645, '1000013842': 2646, '1000013660': 2647, '1000013884': 2648, '1000013666': 2649, '1000013668': 2650, '1000013510': 2651, '1000013524': 2652, '1000013532': 2653, '1000013882': 2654, '1000013550': 2655, '1000013554': 2656, '1000013679': 2657, '1000013697': 2658, '1000013701': 2659, '1000013705': 2660, '1000013709': 2661, '1000013711': 2662, '1000013713': 2663, '1000013717': 2664, '1000013725': 2665, '1000013732': 2666, '1000013736': 2667, '1000013740': 2668, '1000013744': 2669, '1000013750': 2670, '1000013752': 2671, '1000013850': 2672, '1000013838': 2673, '1000013766': 2674, '1000013768': 2675, '1000013770': 2676, '1000013772': 2677, '1000013776': 2678, '1000013856': 2679, '1000013782': 2680, '1000013858': 2681, '1000013860': 2682, '1000013801': 2683, '1000013803': 2684, '1000013862': 2685, '1000013866': 2686, '1000013976': 2687, '1000013902': 2688, '1000013868': 2689, '1000013870': 2690, '1000013906': 2691, '1000013964': 2692, '1000013874': 2693, '1000014369': 2694, '1000013974': 2695, '1000013826': 2696, '1000013830': 2697, '1000013946': 2698, '1000013832': 2699, '1000001880': 2700, '1000001878': 2701, '1000015692': 2702, '1000016961': 2703, '1000016972': 2704, '1000001882': 2705, '1000016970': 2706, '1000016959': 2707, '1000017659': 2708, '1000021814': 2709, '1000012675': 2710, '1000016081': 2711, '1000001884': 2712, '1000001886': 2713, '1000021804': 2714, '1000016980': 2715, '1000001890': 2716, '1000001888': 2717, '1000001892': 2718, '1000021808': 2719, '1000017663': 2720, '1000016965': 2721, '1000001894': 2722, '1000013046': 2723, '1000021806': 2724, '1000016963': 2725, '1000001896': 2726, '1000001898': 2727, '1000017661': 2728, '1000016967': 2729, '1000021798': 2730, '1000001903': 2731, '1000015264': 2732, '1000001908': 2733, '1000001910': 2734, '1000015383': 2735, '1000009970': 2736, '1000001912': 2737, '1000009962': 2738, '1000001914': 2739, '1000015381': 2740, '1000015385': 2741, '1000001921': 2742, '1000001925': 2743, '1000012919': 2744, '1000012915': 2745, '1000003279': 2746, '1000012921': 2747, '1000011477': 2748, '1000007820': 2749, '1000007824': 2750, '1000012797': 2751, '1000007418': 2752, '1000001927': 2753, '1000015220': 2754, '1000015222': 2755, '1000015224': 2756, '1000015226': 2757, '1000015228': 2758, '1000015230': 2759, '1000015232': 2760, '1000015234': 2761, '1000015256': 2762, '1000015236': 2763, '1000015238': 2764, '1000015242': 2765, '1000015244': 2766, '1000015248': 2767, '1000015250': 2768, '1000015252': 2769, '1000015254': 2770, '1000015618': 2771, '1000001930': 2772, '1000001932': 2773, '1000001934': 2774, '1000001936': 2775, '1000002153': 2776, '1000002155': 2777, '1000002159': 2778, '1000009968': 2779, '1000002164': 2780, '1000002166': 2781, '1000002170': 2782, '1000002172': 2783, '1000001979': 2784, '1000001981': 2785, '1000015611': 2786, '1000013068': 2787, '1000008656': 2788, '1000001991': 2789, '1000001993': 2790, '1000001995': 2791, '1000001998': 2792, '1000002000': 2793, '1000013066': 2794, '1000015301': 2795, '1000002004': 2796, '1000003491': 2797, '1000002002': 2798, '1000015266': 2799, '1000018756': 2800, '1000002008': 2801, '1000002010': 2802, '1000013061': 2803, '1000002006': 2804, '1000003170': 2805, '1000015303': 2806, '1000013063': 2807, '1000002012': 2808, '1000002014': 2809, '1000002016': 2810, '1000002018': 2811, '1000001939': 2812, '1000001941': 2813, '1000018187': 2814, '1000018190': 2815, '1000001943': 2816, '1000001945': 2817, '1000018197': 2818, '1000001947': 2819, '1000018195': 2820, '1000001949': 2821, '1000018192': 2822, '1000022429': 2823, '1000001951': 2824, '1000012805': 2825, '1000018189': 2826, '1000001954': 2827, '1000001956': 2828, '1000001958': 2829, '1000001962': 2830, '1000001960': 2831, '1000001964': 2832, '1000009559': 2833, '1000001968': 2834, '1000001966': 2835, '1000001972': 2836, '1000003307': 2837, '1000001974': 2838, '1000003305': 2839, '1000016083': 2840, '1000002021': 2841, '1000009650': 2842, '1000002023': 2843, '1000003299': 2844, '1000003297': 2845, '1000002025': 2846, '1000016992': 2847, '1000002027': 2848, '1000002029': 2849, '1000003293': 2850, '1000009104': 2851, '1000016984': 2852, '1000016085': 2853, '1000015944': 2854, '1000016996': 2855, '1000002031': 2856, '1000015942': 2857, '1000016988': 2858, '1000017010': 2859, '1000002033': 2860, '1000003301': 2861, '1000002035': 2862, '1000017022': 2863, '1000002037': 2864, '1000015605': 2865, '1000002039': 2866, '1000007385': 2867, '1000002041': 2868, '1000002045': 2869, '1000002047': 2870, '1000007859': 2871, '1000017018': 2872, '1000002043': 2873, '1000017020': 2874, '1000002049': 2875, '1000002051': 2876, '1000002053': 2877, '1000016986': 2878, '1000009958': 2879, '1000017012': 2880, '1000002055': 2881, '1000003332': 2882, '1000003538': 2883, '1000017014': 2884, '1000002057': 2885, '1000003277': 2886, '1000017016': 2887, '1000002059': 2888, '1000015940': 2889, '1000003330': 2890, '1000017008': 2891, '1000008528': 2892, '1000002061': 2893, '1000009388': 2894, '1000002063': 2895, '1000002065': 2896, '1000002103': 2897, '1000002105': 2898, '1000002107': 2899, '1000002109': 2900, '1000002111': 2901, '1000002113': 2902, '1000002115': 2903, '1000002117': 2904, '1000003334': 2905, '1000002119': 2906, '1000002121': 2907, '1000002125': 2908, '1000009972': 2909, '1000002127': 2910, '1000002129': 2911, '1000009964': 2912, '1000002123': 2913, '1000002133': 2914, '1000002135': 2915, '1000002144': 2916, '1000002146': 2917, '1000015085': 2918, '1000003283': 2919, '1000002175': 2920, '1000003285': 2921, '1000002177': 2922, '1000003289': 2923, '1000003281': 2924, '1000002179': 2925, '1000002181': 2926, '1000008676': 2927, '1000003322': 2928, '1000003320': 2929, '1000008952': 2930, '1000008954': 2931, '1000008960': 2932, '1000018742': 2933, '1000008966': 2934, '1000008964': 2935, '1000008958': 2936, '1000008962': 2937, '1000008956': 2938, '1000018744': 2939, '1000008772': 2940, '1000008770': 2941, '1000008774': 2942, '1000008778': 2943, '1000008780': 2944, '1000008782': 2945, '1000008776': 2946, '1000008788': 2947, '1000008786': 2948, '1000018596': 2949, '1000015342': 2950, '1000015336': 2951, '1000015360': 2952, '1000015362': 2953, '1000015334': 2954, '1000015338': 2955, '1000015358': 2956, '1000015348': 2957, '1000015340': 2958, '1000015350': 2959, '1000015352': 2960, '1000015354': 2961, '1000015344': 2962, '1000015346': 2963, '1000018712': 2964, '1000018714': 2965, '1000018716': 2966, '1000018718': 2967, '1000018720': 2968, '1000018740': 2969, '1000018722': 2970, '1000018724': 2971, '1000018726': 2972, '1000018728': 2973, '1000018729': 2974, '1000018732': 2975, '1000018734': 2976, '1000018736': 2977, '1000018738': 2978, '1000018573': 2979, '1000018575': 2980, '1000018577': 2981, '1000018579': 2982, '1000018571': 2983, '1000018581': 2984, '1000018583': 2985, '1000018585': 2986, '1000018587': 2987, '1000018592': 2988, '1000018590': 2989, '1000008822': 2990, '1000008824': 2991, '1000008826': 2992, '1000008836': 2993, '1000008830': 2994, '1000008808': 2995, '1000008810': 2996, '1000008812': 2997, '1000008816': 2998, '1000008818': 2999, '1000008834': 3000, '1000008838': 3001, '1000018634': 3002, '1000018632': 3003, '1000018636': 3004, '1000018638': 3005, '1000018640': 3006, '1000018642': 3007, '1000018707': 3008, '1000018644': 3009, '1000018646': 3010, '1000018648': 3011, '1000018650': 3012, '1000018652': 3013, '1000018657': 3014, '1000018659': 3015, '1000018661': 3016, '1000018663': 3017, '1000018665': 3018, '1000018671': 3019, '1000018667': 3020, '1000018675': 3021, '1000018669': 3022, '1000018677': 3023, '1000018679': 3024, '1000018682': 3025, '1000018689': 3026, '1000018691': 3027, '1000018695': 3028, '1000018697': 3029, '1000018699': 3030, '1000018701': 3031, '1000018709': 3032, '1000018703': 3033, '1000018705': 3034, '1000008866': 3035, '1000008854': 3036, '1000008868': 3037, '1000018598': 3038, '1000008843': 3039, '1000008872': 3040, '1000008848': 3041, '1000018610': 3042, '1000008864': 3043, '1000018608': 3044, '1000008852': 3045, '1000018602': 3046, '1000018606': 3047, '1000008870': 3048, '1000018600': 3049, '1000008874': 3050, '1000008856': 3051, '1000008858': 3052, '1000008862': 3053, '1000008891': 3054, '1000018616': 3055, '1000008881': 3056, '1000008883': 3057, '1000008877': 3058, '1000018618': 3059, '1000008885': 3060, '1000008887': 3061, '1000018614': 3062, '1000009368': 3063, '1000008889': 3064, '1000009077': 3065, '1000008896': 3066, '1000008894': 3067, '1000018622': 3068, '1000008900': 3069, '1000008904': 3070, '1000008908': 3071, '1000008918': 3072, '1000008910': 3073, '1000008912': 3074, '1000008914': 3075, '1000018620': 3076, '1000008916': 3077, '1000008799': 3078, '1000009316': 3079, '1000008795': 3080, '1000008791': 3081, '1000008793': 3082, '1000008803': 3083, '1000008805': 3084, '1000008801': 3085, '1000008797': 3086, '1000022415': 3087, '1000022378': 3088, '1000022381': 3089, '1000022407': 3090, '1000022383': 3091, '1000022385': 3092, '1000022387': 3093, '1000022389': 3094, '1000022391': 3095, '1000022393': 3096, '1000022395': 3097, '1000022413': 3098, '1000022397': 3099, '1000022409': 3100, '1000022411': 3101, '1000022399': 3102, '1000022419': 3103, '1000022421': 3104, '1000022417': 3105, '1000008949': 3106, '1000008927': 3107, '1000008935': 3108, '1000008937': 3109, '1000008943': 3110, '1000008925': 3111, '1000008929': 3112, '1000008941': 3113, '1000008947': 3114, '1000009267': 3115, '1000008933': 3116, '1000018624': 3117, '1000008939': 3118, '1000009075': 3119, '1000008996': 3120, '1000008998': 3121, '1000015087': 3122, '1000008969': 3123, '1000008971': 3124, '1000008973': 3125, '1000008975': 3126, '1000009557': 3127, '1000008979': 3128, '1000009001': 3129, '1000008981': 3130, '1000008983': 3131, '1000008985': 3132, '1000008999': 3133, '1000008993': 3134, '1000008987': 3135, '1000008989': 3136, '1000008991': 3137, '1000018628': 3138, '1000018594': 3139, '1000009045': 3140, '1000009049': 3141, '1000009052': 3142, '1000009054': 3143, '1000015867': 3144, '1000009056': 3145, '1000009058': 3146, '1000018746': 3147, '1000022353': 3148, '1000008767': 3149, '1000008761': 3150, '1000008747': 3151, '1000008749': 3152, '1000008757': 3153, '1000008753': 3154, '1000008741': 3155, '1000008765': 3156, '1000008755': 3157, '1000008763': 3158, '1000008759': 3159, '1000018346': 3160, '1000018358': 3161, '1000018348': 3162, '1000018350': 3163, '1000018402': 3164, '1000021442': 3165, '1000018352': 3166, '1000018404': 3167, '1000018354': 3168, '1000018356': 3169, '1000018362': 3170, '1000018360': 3171, '1000018364': 3172, '1000018366': 3173, '1000018368': 3174, '1000018370': 3175, '1000018748': 3176, '1000018372': 3177, '1000018400': 3178, '1000018374': 3179, '1000018376': 3180, '1000018378': 3181, '1000018380': 3182, '1000018386': 3183, '1000018388': 3184, '1000018398': 3185, '1000018396': 3186, '1000018390': 3187, '1000018407': 3188, '1000018409': 3189, '1000018447': 3190, '1000018413': 3191, '1000018421': 3192, '1000018425': 3193, '1000018427': 3194, '1000018429': 3195, '1000018431': 3196, '1000018433': 3197, '1000018435': 3198, '1000018437': 3199, '1000018439': 3200, '1000018441': 3201, '1000018443': 3202, '1000018445': 3203, '1000018449': 3204, '1000018451': 3205, '1000018467': 3206, '1000018477': 3207, '1000018480': 3208, '1000018483': 3209, '1000018485': 3210, '1000018487': 3211, '1000018491': 3212, '1000018489': 3213, '1000022191': 3214, '1000018493': 3215, '1000018495': 3216, '1000018497': 3217, '1000022495': 3218, '1000018499': 3219, '1000018501': 3220, '1000018503': 3221, '1000018505': 3222, '1000018507': 3223, '1000018509': 3224, '1000018511': 3225, '1000018529': 3226, '1000018538': 3227, '1000018550': 3228, '1000018515': 3229, '1000018517': 3230, '1000018519': 3231, '1000018521': 3232, '1000018523': 3233, '1000014008': 3234, '1000014010': 3235, '1000014012': 3236, '1000014019': 3237, '1000014353': 3238, '1000014015': 3239, '1000014017': 3240, '1000014022': 3241, '1000014024': 3242, '1000014026': 3243, '1000014028': 3244, '1000014030': 3245, '1000014032': 3246, '1000014343': 3247, '1000014034': 3248, '1000014036': 3249, '1000014038': 3250, '1000014042': 3251, '1000014044': 3252, '1000015309': 3253, '1000014047': 3254, '1000014049': 3255, '1000014051': 3256, '1000014053': 3257, '1000014056': 3258, '1000014058': 3259, '1000014060': 3260, '1000014062': 3261, '1000014065': 3262, '1000014067': 3263, '1000014069': 3264, '1000014341': 3265, '1000014071': 3266, '1000014073': 3267, '1000014075': 3268, '1000014077': 3269, '1000014079': 3270, '1000014081': 3271, '1000014083': 3272, '1000014085': 3273, '1000014087': 3274, '1000014090': 3275, '1000014092': 3276, '1000014094': 3277, '1000014096': 3278, '1000014098': 3279, '1000014100': 3280, '1000014102': 3281, '1000014104': 3282, '1000014107': 3283, '1000014109': 3284, '1000014111': 3285, '1000014113': 3286, '1000014115': 3287, '1000014117': 3288, '1000014120': 3289, '1000014122': 3290, '1000014128': 3291, '1000014126': 3292, '1000014130': 3293, '1000014132': 3294, '1000014134': 3295, '1000014136': 3296, '1000014139': 3297, '1000014141': 3298, '1000014143': 3299, '1000014145': 3300, '1000019548': 3301, '1000014349': 3302, '1000014148': 3303, '1000014150': 3304, '1000014152': 3305, '1000014154': 3306, '1000014156': 3307, '1000014159': 3308, '1000014161': 3309, '1000014165': 3310, '1000014163': 3311, '1000014167': 3312, '1000014169': 3313, '1000014351': 3314, '1000014173': 3315, '1000014175': 3316, '1000014177': 3317, '1000014179': 3318, '1000014182': 3319, '1000014184': 3320, '1000014186': 3321, '1000019560': 3322, '1000019550': 3323, '1000019558': 3324, '1000019556': 3325, '1000014188': 3326, '1000014190': 3327, '1000014192': 3328, '1000014194': 3329, '1000019552': 3330, '1000019554': 3331, '1000014197': 3332, '1000014337': 3333, '1000014199': 3334, '1000014202': 3335, '1000014204': 3336, '1000014206': 3337, '1000014208': 3338, '1000014210': 3339, '1000014213': 3340, '1000014215': 3341, '1000014217': 3342, '1000014219': 3343, '1000014347': 3344, '1000019546': 3345, '1000019563': 3346, '1000018552': 3347, '1000014222': 3348, '1000014224': 3349, '1000014226': 3350, '1000014229': 3351, '1000014231': 3352, '1000014233': 3353, '1000014235': 3354, '1000014238': 3355, '1000014240': 3356, '1000014243': 3357, '1000014245': 3358, '1000014247': 3359, '1000014250': 3360, '1000014252': 3361, '1000014257': 3362, '1000014259': 3363, '1000014263': 3364, '1000014267': 3365, '1000014269': 3366, '1000014272': 3367, '1000014276': 3368, '1000014274': 3369, '1000014279': 3370, '1000014281': 3371, '1000014283': 3372, '1000014285': 3373, '1000014287': 3374, '1000014290': 3375, '1000014292': 3376, '1000014294': 3377, '1000014296': 3378, '1000014298': 3379, '1000014300': 3380, '1000014305': 3381, '1000014307': 3382, '1000014309': 3383, '1000014311': 3384, '1000014313': 3385, '1000014303': 3386, '1000014316': 3387, '1000014318': 3388, '1000014320': 3389, '1000014322': 3390, '1000014326': 3391, '1000014324': 3392, '1000014329': 3393, '1000014331': 3394, '1000014333': 3395, '1000015742': 3396, '1000015744': 3397, '1000015746': 3398, '1000015748': 3399, '1000015750': 3400, '1000019466': 3401, '1000015752': 3402, '1000015740': 3403, '1000015754': 3404, '1000015756': 3405, '1000015761': 3406, '1000015763': 3407, '1000015767': 3408, '1000015769': 3409, '1000015771': 3410, '1000015774': 3411, '1000015776': 3412, '1000015780': 3413, '1000015782': 3414, '1000015784': 3415, '1000015786': 3416, '1000015788': 3417, '1000015790': 3418, '1000015792': 3419, '1000015795': 3420, '1000015797': 3421, '1000014377': 3422, '1000015415': 3423, '1000014379': 3424, '1000014954': 3425, '1000014381': 3426, '1000014383': 3427, '1000014385': 3428, '1000015105': 3429, '1000014387': 3430, '1000014390': 3431, '1000014392': 3432, '1000014394': 3433, '1000014396': 3434, '1000014398': 3435, '1000014416': 3436, '1000014400': 3437, '1000014406': 3438, '1000014408': 3439, '1000014410': 3440, '1000014412': 3441, '1000014418': 3442, '1000014425': 3443, '1000014427': 3444, '1000014431': 3445, '1000014441': 3446, '1000014449': 3447, '1000014457': 3448, '1000014459': 3449, '1000014463': 3450, '1000014465': 3451, '1000014467': 3452, '1000014469': 3453, '1000014493': 3454, '1000014495': 3455, '1000014497': 3456, '1000014499': 3457, '1000014501': 3458, '1000014505': 3459, '1000014507': 3460, '1000017306': 3461, '1000014510': 3462, '1000014514': 3463, '1000014516': 3464, '1000014518': 3465, '1000014520': 3466, '1000014522': 3467, '1000015146': 3468, '1000014524': 3469, '1000014526': 3470, '1000014528': 3471, '1000014530': 3472, '1000014532': 3473, '1000014539': 3474, '1000014541': 3475, '1000014545': 3476, '1000014549': 3477, '1000014547': 3478, '1000014551': 3479, '1000014555': 3480, '1000014557': 3481, '1000014559': 3482, '1000014561': 3483, '1000014553': 3484, '1000014566': 3485, '1000021452': 3486, '1000014568': 3487, '1000014572': 3488, '1000014570': 3489, '1000015168': 3490, '1000015176': 3491, '1000015174': 3492, '1000014577': 3493, '1000014579': 3494, '1000015213': 3495, '1000014581': 3496, '1000014594': 3497, '1000014600': 3498, '1000014606': 3499, '1000014615': 3500, '1000014617': 3501, '1000014621': 3502, '1000015165': 3503, '1000014625': 3504, '1000014627': 3505, '1000014631': 3506, '1000014635': 3507, '1000014637': 3508, '1000014639': 3509, '1000014641': 3510, '1000014651': 3511, '1000014657': 3512, '1000014662': 3513, '1000014666': 3514, '1000014679': 3515, '1000014681': 3516, '1000014683': 3517, '1000014686': 3518, '1000014688': 3519, '1000014690': 3520, '1000015186': 3521, '1000014692': 3522, '1000014694': 3523, '1000014951': 3524, '1000014698': 3525, '1000014700': 3526, '1000014704': 3527, '1000015123': 3528, '1000014706': 3529, '1000014708': 3530, '1000014710': 3531, '1000014712': 3532, '1000014702': 3533, '1000014716': 3534, '1000014718': 3535, '1000014720': 3536, '1000014740': 3537, '1000015115': 3538, '1000015150': 3539, '1000014722': 3540, '1000014724': 3541, '1000014736': 3542, '1000014726': 3543, '1000014728': 3544, '1000014730': 3545, '1000014732': 3546, '1000014742': 3547, '1000014746': 3548, '1000014752': 3549, '1000015138': 3550, '1000014765': 3551, '1000014776': 3552, '1000014778': 3553, '1000015190': 3554, '1000015140': 3555, '1000014780': 3556, '1000014782': 3557, '1000014784': 3558, '1000014786': 3559, '1000014788': 3560, '1000014790': 3561, '1000014796': 3562, '1000014792': 3563, '1000014794': 3564, '1000014798': 3565, '1000014800': 3566, '1000014804': 3567, '1000014806': 3568, '1000015200': 3569, '1000014816': 3570, '1000014810': 3571, '1000014812': 3572, '1000015142': 3573, '1000014814': 3574, '1000014818': 3575, '1000014820': 3576, '1000015144': 3577, '1000014822': 3578, '1000014824': 3579, '1000014826': 3580, '1000014830': 3581, '1000014474': 3582, '1000015198': 3583, '1000014476': 3584, '1000014478': 3585, '1000014480': 3586, '1000014482': 3587, '1000014484': 3588, '1000014486': 3589, '1000014488': 3590, '1000014490': 3591, '1000014833': 3592, '1000014835': 3593, '1000015121': 3594, '1000014839': 3595, '1000015178': 3596, '1000014857': 3597, '1000014859': 3598, '1000014861': 3599, '1000014863': 3600, '1000015211': 3601, '1000015163': 3602, '1000015119': 3603, '1000015217': 3604, '1000014867': 3605, '1000014873': 3606, '1000014877': 3607, '1000014879': 3608, '1000014883': 3609, '1000014885': 3610, '1000014887': 3611, '1000014889': 3612, '1000014895': 3613, '1000014901': 3614, '1000014905': 3615, '1000015148': 3616, '1000014947': 3617, '1000014907': 3618, '1000014909': 3619, '1000014911': 3620, '1000014871': 3621, '1000015155': 3622, '1000015161': 3623, '1000015157': 3624, '1000015153': 3625, '1000014914': 3626, '1000014916': 3627, '1000014918': 3628, '1000014920': 3629, '1000015208': 3630, '1000014922': 3631, '1000014924': 3632, '1000014926': 3633, '1000014930': 3634, '1000014932': 3635, '1000014934': 3636, '1000015093': 3637, '1000014938': 3638, '1000014942': 3639, '1000014940': 3640, '1000014944': 3641, '1000009579': 3642, '1000009581': 3643, '1000009583': 3644, '1000009585': 3645, '1000009593': 3646, '1000009587': 3647, '1000009589': 3648, '1000009591': 3649, '1000009577': 3650, '1000009598': 3651, '1000009602': 3652, '1000009606': 3653, '1000009612': 3654, '1000009632': 3655, '1000009634': 3656, '1000009628': 3657, '1000009640': 3658, '1000009642': 3659, '1000009644': 3660, '1000015079': 3661, '1000015083': 3662, '1000015103': 3663, '1000015081': 3664, '1000015042': 3665, '1000015044': 3666, '1000015046': 3667, '1000015030': 3668, '1000015032': 3669, '1000015074': 3670, '1000015038': 3671, '1000015034': 3672, '1000015036': 3673, '1000014992': 3674, '1000014994': 3675, '1000014996': 3676, '1000014998': 3677, '1000015002': 3678, '1000015006': 3679, '1000015101': 3680, '1000015008': 3681, '1000015012': 3682, '1000015016': 3683, '1000015024': 3684, '1000015099': 3685, '1000015060': 3686, '1000015062': 3687, '1000015064': 3688, '1000015066': 3689, '1000015068': 3690, '1000015070': 3691, '1000014988': 3692, '1000014990': 3693, '1000014978': 3694, '1000014964': 3695, '1000014968': 3696, '1000014976': 3697, '1000014974': 3698, '1000014966': 3699, '1000014972': 3700, '1000014970': 3701, '1000015076': 3702, '1000015488': 3703, '1000015490': 3704, '1000015492': 3705, '1000011481': 3706, '1000011483': 3707, '1000011485': 3708, '1000011487': 3709, '1000011505': 3710, '1000011519': 3711, '1000011566': 3712, '1000015946': 3713, '1000011522': 3714, '1000011524': 3715, '1000011530': 3716, '1000011580': 3717, '1000011582': 3718, '1000011586': 3719, '1000011600': 3720, '1000011588': 3721, '1000011590': 3722, '1000011596': 3723, '1000011598': 3724, '1000012024': 3725, '1000011594': 3726, '1000011605': 3727, '1000011609': 3728, '1000011631': 3729, '1000011665': 3730, '1000011675': 3731, '1000011684': 3732, '1000011686': 3733, '1000011690': 3734, '1000011696': 3735, '1000011688': 3736, '1000011700': 3737, '1000011702': 3738, '1000011704': 3739, '1000011706': 3740, '1000011711': 3741, '1000011715': 3742, '1000011717': 3743, '1000011719': 3744, '1000011993': 3745, '1000012017': 3746, '1000011734': 3747, '1000011732': 3748, '1000011736': 3749, '1000011738': 3750, '1000011740': 3751, '1000011742': 3752, '1000011744': 3753, '1000011748': 3754, '1000011756': 3755, '1000011754': 3756, '1000011760': 3757, '1000011765': 3758, '1000011769': 3759, '1000011798': 3760, '1000011804': 3761, '1000011817': 3762, '1000011829': 3763, '1000013089': 3764, '1000011831': 3765, '1000011849': 3766, '1000011853': 3767, '1000011855': 3768, '1000011860': 3769, '1000011872': 3770, '1000011877': 3771, '1000011893': 3772, '1000011889': 3773, '1000011879': 3774, '1000011883': 3775, '1000011896': 3776, '1000011904': 3777, '1000011900': 3778, '1000011902': 3779, '1000015421': 3780, '1000012022': 3781, '1000011945': 3782, '1000011947': 3783, '1000011953': 3784, '1000011955': 3785, '1000011959': 3786, '1000011961': 3787, '1000011963': 3788, '1000011965': 3789, '1000011967': 3790, '1000011981': 3791, '1000011971': 3792, '1000011973': 3793, '1000011975': 3794, '1000011977': 3795, '1000011979': 3796, '1000011913': 3797, '1000011915': 3798, '1000011919': 3799, '1000011926': 3800, '1000011930': 3801, '1000011942': 3802, '1000011984': 3803, '1000011644': 3804, '1000011646': 3805, '1000011634': 3806, '1000011638': 3807, '1000011636': 3808, '1000011642': 3809, '1000012105': 3810, '1000012107': 3811, '1000012109': 3812, '1000012117': 3813, '1000012113': 3814, '1000012115': 3815, '1000012119': 3816, '1000012121': 3817, '1000012111': 3818, '1000012123': 3819, '1000013437': 3820, '1000012124': 3821, '1000012127': 3822, '1000015607': 3823, '1000012129': 3824, '1000012131': 3825, '1000018758': 3826, '1000012133': 3827, '1000015182': 3828, '1000015204': 3829, '1000012139': 3830, '1000013439': 3831, '1000012141': 3832, '1000015192': 3833, '1000012143': 3834, '1000015215': 3835, '1000012145': 3836, '1000012147': 3837, '1000012151': 3838, '1000012153': 3839, '1000012155': 3840, '1000012608': 3841, '1000015568': 3842, '1000012439': 3843, '1000012447': 3844, '1000019520': 3845, '1000019484': 3846, '1000022487': 3847, '1000012441': 3848, '1000019518': 3849, '1000012443': 3850, '1000012451': 3851, '1000019534': 3852, '1000019478': 3853, '1000019476': 3854, '1000019480': 3855, '1000019474': 3856, '1000019486': 3857, '1000012647': 3858, '1000002548': 3859, '1000002546': 3860, '1000002650': 3861, '1000002544': 3862, '1000012655': 3863, '1000012653': 3864, '1000012645': 3865, '1000002553': 3866, '1000019522': 3867, '1000019488': 3868, '1000002557': 3869, '1000019524': 3870, '1000002561': 3871, '1000002563': 3872, '1000019526': 3873, '1000019528': 3874, '1000002565': 3875, '1000019492': 3876, '1000020711': 3877, '1000003240': 3878, '1000002574': 3879, '1000002576': 3880, '1000019530': 3881, '1000002584': 3882, '1000002578': 3883, '1000002580': 3884, '1000019498': 3885, '1000002582': 3886, '1000015574': 3887, '1000019496': 3888, '1000008080': 3889, '1000002586': 3890, '1000002588': 3891, '1000002615': 3892, '1000002619': 3893, '1000002627': 3894, '1000019502': 3895, '1000002633': 3896, '1000016978': 3897, '1000002617': 3898, '1000002623': 3899, '1000002629': 3900, '1000002621': 3901, '1000015387': 3902, '1000002593': 3903, '1000002597': 3904, '1000015888': 3905, '1000019510': 3906, '1000019504': 3907, '1000015882': 3908, '1000019508': 3909, '1000002601': 3910, '1000002591': 3911, '1000002604': 3912, '1000002606': 3913, '1000015389': 3914, '1000002608': 3915, '1000002610': 3916, '1000019532': 3917, '1000003246': 3918, '1000018556': 3919, '1000002612': 3920, '1000015884': 3921, '1000019514': 3922, '1000002516': 3923, '1000002655': 3924, '1000002520': 3925, '1000012457': 3926, '1000003242': 3927, '1000002522': 3928, '1000002526': 3929, '1000003236': 3930, '1000015364': 3931, '1000019512': 3932, '1000002666': 3933, '1000002664': 3934, '1000002636': 3935, '1000007300': 3936, '1000016075': 3937, '1000002638': 3938, '1000002648': 3939, '1000002640': 3940, '1000016077': 3941, '1000002644': 3942, '1000016079': 3943, '1000008662': 3944, '1000002642': 3945, '1000002652': 3946, '1000002646': 3947, '1000019516': 3948, '1000018278': 3949, '1000018308': 3950, '1000018280': 3951, '1000018282': 3952, '1000018284': 3953, '1000018286': 3954, '1000018288': 3955, '1000018290': 3956, '1000018292': 3957, '1000018294': 3958, '1000018296': 3959, '1000018298': 3960, '1000018300': 3961, '1000018302': 3962, '1000018304': 3963, '1000018306': 3964, '1000018326': 3965, '1000018323': 3966, '1000018313': 3967, '1000018314': 3968, '1000018317': 3969, '1000018319': 3970, '1000018328': 3971, '1000018330': 3972, '1000018332': 3973, '1000018334': 3974, '1000018336': 3975, '1000018338': 3976, '1000018340': 3977, '1000007916': 3978, '1000007882': 3979, '1000007886': 3980, '1000007888': 3981, '1000007890': 3982, '1000007892': 3983, '1000007894': 3984, '1000007898': 3985, '1000007900': 3986, '1000007902': 3987, '1000007906': 3988, '1000008556': 3989, '1000007914': 3990, '1000007920': 3991, '1000007918': 3992, '1000007922': 3993, '1000007924': 3994, '1000007926': 3995, '1000007904': 3996, '1000007255': 3997, '1000004417': 3998, '1000004415': 3999, '1000004390': 4000, '1000004384': 4001, '1000004382': 4002, '1000004392': 4003, '1000004377': 4004, '1000004396': 4005, '1000004398': 4006, '1000004400': 4007, '1000004375': 4008, '1000004402': 4009, '1000004379': 4010, '1000004411': 4011, '1000004408': 4012, '1000004386': 4013, '1000004413': 4014, '1000004373': 4015, '1000004371': 4016, '1000004406': 4017, '1000004394': 4018, '1000012612': 4019, '1000004486': 4020, '1000004474': 4021, '1000009303': 4022, '1000004484': 4023, '1000004490': 4024, '1000014254': 4025, '1000015580': 4026, '1000007282': 4027, '1000012616': 4028, '1000004476': 4029, '1000004478': 4030, '1000004488': 4031, '1000004482': 4032, '1000012622': 4033, '1000004465': 4034, '1000004467': 4035, '1000004471': 4036, '1000004469': 4037, '1000004420': 4038, '1000004422': 4039, '1000004424': 4040, '1000012827': 4041, '1000004434': 4042, '1000004436': 4043, '1000004442': 4044, '1000004444': 4045, '1000004454': 4046, '1000004456': 4047, '1000012661': 4048, '1000004458': 4049, '1000012813': 4050, '1000004428': 4051, '1000012817': 4052, '1000012819': 4053, '1000012821': 4054, '1000004432': 4055, '1000012823': 4056, '1000012825': 4057, '1000012829': 4058, '1000012831': 4059, '1000012833': 4060, '1000004438': 4061, '1000004440': 4062, '1000004446': 4063, '1000004448': 4064, '1000012837': 4065, '1000012839': 4066, '1000012841': 4067, '1000012843': 4068, '1000004450': 4069, '1000012845': 4070, '1000012847': 4071, '1000012849': 4072, '1000012851': 4073, '1000012853': 4074, '1000012663': 4075, '1000004452': 4076, '1000019633': 4077, '1000010722': 4078, '1000020783': 4079, '1000010706': 4080, '1000019637': 4081, '1000010724': 4082, '1000010708': 4083, '1000010726': 4084, '1000010718': 4085, '1000010712': 4086, '1000010714': 4087, '1000010716': 4088, '1000019631': 4089, '1000019629': 4090, '1000020777': 4091, '1000010732': 4092, '1000020793': 4093, '1000020816': 4094, '1000020789': 4095, '1000020795': 4096, '1000011367': 4097, '1000019635': 4098, '1000010730': 4099, '1000010720': 4100, '1000012583': 4101, '1000010734': 4102, '1000010737': 4103, '1000010739': 4104, '1000010754': 4105, '1000010756': 4106, '1000019639': 4107, '1000010763': 4108, '1000010759': 4109, '1000019643': 4110, '1000010761': 4111, '1000010766': 4112, '1000010768': 4113, '1000010771': 4114, '1000010773': 4115, '1000010778': 4116, '1000019645': 4117, '1000010780': 4118, '1000010782': 4119, '1000019647': 4120, '1000019655': 4121, '1000015576': 4122, '1000019698': 4123, '1000019623': 4124, '1000019736': 4125, '1000020810': 4126, '1000020808': 4127, '1000010787': 4128, '1000010789': 4129, '1000019671': 4130, '1000010791': 4131, '1000010793': 4132, '1000019657': 4133, '1000010803': 4134, '1000010806': 4135, '1000019679': 4136, '1000010808': 4137, '1000010812': 4138, '1000010816': 4139, '1000010820': 4140, '1000010826': 4141, '1000010830': 4142, '1000010832': 4143, '1000010834': 4144, '1000010836': 4145, '1000010840': 4146, '1000010842': 4147, '1000012587': 4148, '1000010844': 4149, '1000019618': 4150, '1000019594': 4151, '1000019604': 4152, '1000019620': 4153, '1000019608': 4154, '1000020796': 4155, '1000020800': 4156, '1000019616': 4157, '1000010847': 4158, '1000010851': 4159, '1000010849': 4160, '1000010855': 4161, '1000010857': 4162, '1000010859': 4163, '1000010863': 4164, '1000010865': 4165, '1000019726': 4166, '1000019728': 4167, '1000010868': 4168, '1000010874': 4169, '1000019734': 4170, '1000010876': 4171, '1000017683': 4172, '1000010878': 4173, '1000010882': 4174, '1000010884': 4175, '1000010887': 4176, '1000019742': 4177, '1000010891': 4178, '1000010893': 4179, '1000012694': 4180, '1000012461': 4181, '1000012081': 4182, '1000013174': 4183, '1000012086': 4184, '1000012468': 4185, '1000008405': 4186, '1000007698': 4187, '1000008492': 4188, '1000012925': 4189, '1000001167': 4190, '1000001163': 4191, '1000008401': 4192, '1000001176': 4193, '1000008395': 4194, '1000007879': 4195, '1000001172': 4196, '1000016763': 4197, '1000016761': 4198, '1000008423': 4199, '1000016767': 4200, '1000012030': 4201, '1000008431': 4202, '1000008425': 4203, '1000012929': 4204, '1000012032': 4205, '1000015481': 4206, '1000012037': 4207, '1000012039': 4208, '1000012041': 4209, '1000012045': 4210, '1000012047': 4211, '1000012043': 4212, '1000008441': 4213, '1000012074': 4214, '1000012064': 4215, '1000012624': 4216, '1000012058': 4217, '1000012060': 4218, '1000012050': 4219, '1000016769': 4220, '1000012066': 4221, '1000012052': 4222, '1000008153': 4223, '1000008221': 4224, '1000009244': 4225, '1000000271': 4226, '1000000273': 4227, '1000000277': 4228, '1000007748': 4229, '1000000280': 4230, '1000000282': 4231, '1000000285': 4232, '1000000287': 4233, '1000000289': 4234, '1000000291': 4235, '1000000293': 4236, '1000000295': 4237, '1000000297': 4238, '1000000887': 4239, '1000000300': 4240, '1000000302': 4241, '1000007758': 4242, '1000013171': 4243, '1000000304': 4244, '1000007744': 4245, '1000000966': 4246, '1000000306': 4247, '1000001132': 4248, '1000000345': 4249, '1000017689': 4250, '1000000359': 4251, '1000000357': 4252, '1000000355': 4253, '1000007764': 4254, '1000000351': 4255, '1000000822': 4256, '1000000349': 4257, '1000000347': 4258, '1000000818': 4259, '1000017693': 4260, '1000007754': 4261, '1000000816': 4262, '1000000364': 4263, '1000000366': 4264, '1000000368': 4265, '1000000370': 4266, '1000000372': 4267, '1000000373': 4268, '1000000377': 4269, '1000000379': 4270, '1000013216': 4271, '1000000381': 4272, '1000000383': 4273, '1000000387': 4274, '1000000389': 4275, '1000000830': 4276, '1000000566': 4277, '1000003155': 4278, '1000000569': 4279, '1000000574': 4280, '1000017699': 4281, '1000000576': 4282, '1000017703': 4283, '1000000572': 4284, '1000017697': 4285, '1000000568': 4286, '1000007742': 4287, '1000017701': 4288, '1000000580': 4289, '1000000582': 4290, '1000000584': 4291, '1000000414': 4292, '1000000416': 4293, '1000000418': 4294, '1000013214': 4295, '1000000420': 4296, '1000007162': 4297, '1000000422': 4298, '1000000424': 4299, '1000000426': 4300, '1000000428': 4301, '1000017717': 4302, '1000017707': 4303, '1000000802': 4304, '1000000397': 4305, '1000017715': 4306, '1000000751': 4307, '1000000753': 4308, '1000000401': 4309, '1000017711': 4310, '1000000828': 4311, '1000000757': 4312, '1000000405': 4313, '1000000761': 4314, '1000017705': 4315, '1000000763': 4316, '1000017713': 4317, '1000000769': 4318, '1000000407': 4319, '1000000409': 4320, '1000017709': 4321, '1000000411': 4322, '1000015311': 4323, '1000000431': 4324, '1000000433': 4325, '1000000459': 4326, '1000000435': 4327, '1000000441': 4328, '1000000439': 4329, '1000017721': 4330, '1000000461': 4331, '1000017719': 4332, '1000017723': 4333, '1000000443': 4334, '1000000445': 4335, '1000003544': 4336, '1000000447': 4337, '1000017725': 4338, '1000017727': 4339, '1000000451': 4340, '1000000457': 4341, '1000000483': 4342, '1000001182': 4343, '1000000485': 4344, '1000000487': 4345, '1000000489': 4346, '1000000491': 4347, '1000000495': 4348, '1000000497': 4349, '1000000499': 4350, '1000000799': 4351, '1000000501': 4352, '1000007772': 4353, '1000000464': 4354, '1000000466': 4355, '1000000468': 4356, '1000000470': 4357, '1000000472': 4358, '1000017735': 4359, '1000017733': 4360, '1000000476': 4361, '1000000478': 4362, '1000017731': 4363, '1000000480': 4364, '1000007766': 4365, '1000000504': 4366, '1000000506': 4367, '1000000508': 4368, '1000000510': 4369, '1000000512': 4370, '1000000514': 4371, '1000000516': 4372, '1000000518': 4373, '1000000520': 4374, '1000000522': 4375, '1000000524': 4376, '1000000526': 4377, '1000000528': 4378, '1000000530': 4379, '1000000532': 4380, '1000000534': 4381, '1000000536': 4382, '1000000538': 4383, '1000000540': 4384, '1000000542': 4385, '1000003373': 4386, '1000000544': 4387, '1000000546': 4388, '1000000548': 4389, '1000000552': 4390, '1000000804': 4391, '1000015565': 4392, '1000000795': 4393, '1000007750': 4394, '1000007760': 4395, '1000000555': 4396, '1000015555': 4397, '1000007762': 4398, '1000000793': 4399, '1000000557': 4400, '1000000559': 4401, '1000000561': 4402, '1000000563': 4403, '1000017740': 4404, '1000007768': 4405, '1000001266': 4406, '1000001254': 4407, '1000001256': 4408, '1000001252': 4409, '1000001258': 4410, '1000001260': 4411, '1000020661': 4412, '1000007249': 4413, '1000020667': 4414, '1000001288': 4415, '1000001296': 4416, '1000001280': 4417, '1000001284': 4418, '1000001282': 4419, '1000001286': 4420, '1000001292': 4421, '1000008387': 4422, '1000003540': 4423, '1000009918': 4424, '1000001294': 4425, '1000001290': 4426, '1000001299': 4427, '1000001305': 4428, '1000001303': 4429, '1000001591': 4430, '1000013187': 4431, '1000001589': 4432, '1000001585': 4433, '1000007251': 4434, '1000001233': 4435, '1000001275': 4436, '1000001273': 4437, '1000001579': 4438, '1000001277': 4439, '1000015369': 4440, '1000015371': 4441, '1000001240': 4442, '1000014002': 4443, '1000018817': 4444, '1000019365': 4445, '1000019369': 4446, '1000019373': 4447, '1000019375': 4448, '1000018949': 4449, '1000019156': 4450, '1000019804': 4451, '1000019041': 4452, '1000019172': 4453, '1000018951': 4454, '1000018823': 4455, '1000019840': 4456, '1000019075': 4457, '1000019209': 4458, '1000019098': 4459, '1000018792': 4460, '1000008082': 4461, '1000018798': 4462, '1000007148': 4463, '1000006306': 4464, '1000019002': 4465, '1000007180': 4466, '1000019278': 4467, '1000007182': 4468, '1000019014': 4469, '1000018790': 4470, '1000019006': 4471, '1000006308': 4472, '1000018794': 4473, '1000006310': 4474, '1000019280': 4475, '1000007178': 4476, '1000007284': 4477, '1000019008': 4478, '1000006320': 4479, '1000006312': 4480, '1000006314': 4481, '1000006316': 4482, '1000018796': 4483, '1000006318': 4484, '1000007265': 4485, '1000006344': 4486, '1000015914': 4487, '1000006346': 4488, '1000019856': 4489, '1000006348': 4490, '1000019382': 4491, '1000007166': 4492, '1000015916': 4493, '1000019440': 4494, '1000019858': 4495, '1000019417': 4496, '1000019861': 4497, '1000019863': 4498, '1000006352': 4499, '1000006350': 4500, '1000006354': 4501, '1000019867': 4502, '1000006356': 4503, '1000006358': 4504, '1000019869': 4505, '1000006360': 4506, '1000006364': 4507, '1000006366': 4508, '1000006362': 4509, '1000019873': 4510, '1000019421': 4511, '1000006374': 4512, '1000006376': 4513, '1000006378': 4514, '1000019875': 4515, '1000019877': 4516, '1000006380': 4517, '1000006382': 4518, '1000006384': 4519, '1000006370': 4520, '1000006386': 4521, '1000007174': 4522, '1000006390': 4523, '1000007170': 4524, '1000006394': 4525, '1000006396': 4526, '1000007176': 4527, '1000006398': 4528, '1000006388': 4529, '1000019881': 4530, '1000019883': 4531, '1000006400': 4532, '1000019885': 4533, '1000006406': 4534, '1000007168': 4535, '1000006408': 4536, '1000006410': 4537, '1000006412': 4538, '1000006414': 4539, '1000019289': 4540, '1000006372': 4541, '1000006416': 4542, '1000006404': 4543, '1000006418': 4544, '1000006420': 4545, '1000006423': 4546, '1000018910': 4547, '1000006425': 4548, '1000006429': 4549, '1000018808': 4550, '1000006431': 4551, '1000019901': 4552, '1000006439': 4553, '1000006443': 4554, '1000019102': 4555, '1000019296': 4556, '1000018904': 4557, '1000018906': 4558, '1000019386': 4559, '1000006452': 4560, '1000006450': 4561, '1000006454': 4562, '1000006456': 4563, '1000006458': 4564, '1000006460': 4565, '1000006462': 4566, '1000007150': 4567, '1000019444': 4568, '1000019433': 4569, '1000019964': 4570, '1000006465': 4571, '1000006467': 4572, '1000019971': 4573, '1000006473': 4574, '1000019975': 4575, '1000018082': 4576, '1000007221': 4577, '1000019977': 4578, '1000006477': 4579, '1000019425': 4580, '1000006479': 4581, '1000006481': 4582, '1000019979': 4583, '1000019981': 4584, '1000006489': 4585, '1000006491': 4586, '1000006493': 4587, '1000006495': 4588, '1000006499': 4589, '1000019985': 4590, '1000019973': 4591, '1000007152': 4592, '1000006503': 4593, '1000006505': 4594, '1000006509': 4595, '1000006511': 4596, '1000008092': 4597, '1000006513': 4598, '1000006514': 4599, '1000017177': 4600, '1000018953': 4601, '1000019991': 4602, '1000018985': 4603, '1000019028': 4604, '1000018826': 4605, '1000018828': 4606, '1000019995': 4607, '1000019997': 4608, '1000018859': 4609, '1000020001': 4610, '1000019065': 4611, '1000019077': 4612, '1000019018': 4613, '1000020007': 4614, '1000019081': 4615, '1000020003': 4616, '1000020015': 4617, '1000018956': 4618, '1000020031': 4619, '1000021518': 4620, '1000006545': 4621, '1000006549': 4622, '1000006551': 4623, '1000006553': 4624, '1000006559': 4625, '1000007393': 4626, '1000007399': 4627, '1000006561': 4628, '1000021464': 4629, '1000006565': 4630, '1000006567': 4631, '1000006569': 4632, '1000006574': 4633, '1000006576': 4634, '1000006578': 4635, '1000006580': 4636, '1000006582': 4637, '1000006584': 4638, '1000018958': 4639, '1000006589': 4640, '1000006591': 4641, '1000018830': 4642, '1000006593': 4643, '1000019419': 4644, '1000006599': 4645, '1000020093': 4646, '1000012793': 4647, '1000006607': 4648, '1000006611': 4649, '1000006613': 4650, '1000018960': 4651, '1000018833': 4652, '1000020111': 4653, '1000020113': 4654, '1000020117': 4655, '1000019090': 4656, '1000020125': 4657, '1000019092': 4658, '1000006617': 4659, '1000006619': 4660, '1000006621': 4661, '1000006623': 4662, '1000012857': 4663, '1000007164': 4664, '1000006629': 4665, '1000006631': 4666, '1000006633': 4667, '1000006635': 4668, '1000019333': 4669, '1000019032': 4670, '1000019035': 4671, '1000018993': 4672, '1000019188': 4673, '1000019189': 4674, '1000019016': 4675, '1000019355': 4676, '1000018930': 4677, '1000019024': 4678, '1000018870': 4679, '1000019388': 4680, '1000019423': 4681, '1000019263': 4682, '1000006653': 4683, '1000020135': 4684, '1000019104': 4685, '1000019249': 4686, '1000006673': 4687, '1000006671': 4688, '1000022427': 4689, '1000019259': 4690, '1000018788': 4691, '1000006685': 4692, '1000019220': 4693, '1000007401': 4694, '1000007158': 4695, '1000006687': 4696, '1000018873': 4697, '1000018875': 4698, '1000018877': 4699, '1000018879': 4700, '1000018883': 4701, '1000018885': 4702, '1000018886': 4703, '1000018888': 4704, '1000018891': 4705, '1000018893': 4706, '1000018881': 4707, '1000018897': 4708, '1000018899': 4709, '1000018901': 4710, '1000006696': 4711, '1000006698': 4712, '1000006700': 4713, '1000020137': 4714, '1000006702': 4715, '1000006704': 4716, '1000006706': 4717, '1000006726': 4718, '1000020167': 4719, '1000018861': 4720, '1000006710': 4721, '1000006712': 4722, '1000006714': 4723, '1000006716': 4724, '1000006718': 4725, '1000006720': 4726, '1000006722': 4727, '1000006694': 4728, '1000006724': 4729, '1000020153': 4730, '1000006728': 4731, '1000006730': 4732, '1000006732': 4733, '1000007223': 4734, '1000020157': 4735, '1000006734': 4736, '1000006736': 4737, '1000006738': 4738, '1000006740': 4739, '1000006742': 4740, '1000006744': 4741, '1000006748': 4742, '1000019332': 4743, '1000006753': 4744, '1000006763': 4745, '1000006768': 4746, '1000006770': 4747, '1000006772': 4748, '1000019047': 4749, '1000019058': 4750, '1000020239': 4751, '1000020249': 4752, '1000006774': 4753, '1000006780': 4754, '1000019431': 4755, '1000006784': 4756, '1000019094': 4757, '1000006786': 4758, '1000006790': 4759, '1000006792': 4760, '1000006796': 4761, '1000006798': 4762, '1000006800': 4763, '1000006804': 4764, '1000018981': 4765, '1000006809': 4766, '1000006813': 4767, '1000006815': 4768, '1000019012': 4769, '1000006817': 4770, '1000006819': 4771, '1000006825': 4772, '1000006827': 4773, '1000006829': 4774, '1000006831': 4775, '1000006833': 4776, '1000006835': 4777, '1000006837': 4778, '1000006811': 4779, '1000006839': 4780, '1000006841': 4781, '1000006843': 4782, '1000006847': 4783, '1000006849': 4784, '1000006851': 4785, '1000018964': 4786, '1000020263': 4787, '1000019049': 4788, '1000019037': 4789, '1000018836': 4790, '1000020273': 4791, '1000019079': 4792, '1000019108': 4793, '1000019110': 4794, '1000020275': 4795, '1000020285': 4796, '1000020291': 4797, '1000018838': 4798, '1000019045': 4799, '1000019415': 4800, '1000019409': 4801, '1000020295': 4802, '1000006239': 4803, '1000019123': 4804, '1000020297': 4805, '1000019114': 4806, '1000006243': 4807, '1000006245': 4808, '1000006247': 4809, '1000019411': 4810, '1000006249': 4811, '1000006255': 4812, '1000019119': 4813, '1000020309': 4814, '1000019126': 4815, '1000020315': 4816, '1000020337': 4817, '1000007211': 4818, '1000018932': 4819, '1000019138': 4820, '1000020462': 4821, '1000019134': 4822, '1000018916': 4823, '1000018979': 4824, '1000006518': 4825, '1000018934': 4826, '1000018812': 4827, '1000019054': 4828, '1000018914': 4829, '1000020468': 4830, '1000006524': 4831, '1000006526': 4832, '1000018940': 4833, '1000018936': 4834, '1000006528': 4835, '1000006530': 4836, '1000019435': 4837, '1000020474': 4838, '1000006532': 4839, '1000018945': 4840, '1000019398': 4841, '1000006534': 4842, '1000019413': 4843, '1000006538': 4844, '1000020472': 4845, '1000018938': 4846, '1000019136': 4847, '1000018922': 4848, '1000019113': 4849, '1000019140': 4850, '1000006206': 4851, '1000019063': 4852, '1000019142': 4853, '1000018848': 4854, '1000020357': 4855, '1000006208': 4856, '1000019427': 4857, '1000019146': 4858, '1000019148': 4859, '1000018769': 4860, '1000018774': 4861, '1000006214': 4862, '1000019152': 4863, '1000006900': 4864, '1000019359': 4865, '1000006898': 4866, '1000009126': 4867, '1000006904': 4868, '1000020383': 4869, '1000018800': 4870, '1000006909': 4871, '1000019446': 4872, '1000020401': 4873, '1000019026': 4874, '1000019437': 4875, '1000019057': 4876, '1000019456': 4877, '1000018810': 4878, '1000018844': 4879, '1000018846': 4880, '1000018842': 4881, '1000020403': 4882, '1000019051': 4883, '1000020405': 4884, '1000006911': 4885, '1000020407': 4886, '1000006913': 4887, '1000020409': 4888, '1000020411': 4889, '1000006917': 4890, '1000006921': 4891, '1000019067': 4892, '1000006923': 4893, '1000019394': 4894, '1000006931': 4895, '1000020417': 4896, '1000019071': 4897, '1000015586': 4898, '1000006933': 4899, '1000006935': 4900, '1000020419': 4901, '1000019130': 4902, '1000020421': 4903, '1000007291': 4904, '1000006937': 4905, '1000006939': 4906, '1000006941': 4907, '1000020423': 4908, '1000006945': 4909, '1000006947': 4910, '1000006949': 4911, '1000018865': 4912, '1000020425': 4913, '1000006953': 4914, '1000020427': 4915, '1000020413': 4916, '1000018867': 4917, '1000020429': 4918, '1000006999': 4919, '1000007001': 4920, '1000020433': 4921, '1000018804': 4922, '1000019448': 4923, '1000007023': 4924, '1000018762': 4925, '1000007055': 4926, '1000020452': 4927, '1000007063': 4928, '1000007069': 4929, '1000020456': 4930, '1000019100': 4931, '1000020488': 4932, '1000020504': 4933, '1000006870': 4934, '1000019295': 4935, '1000018972': 4936, '1000018854': 4937, '1000019235': 4938, '1000019239': 4939, '1000019243': 4940, '1000019245': 4941, '1000020560': 4942, '1000020562': 4943, '1000019253': 4944, '1000020570': 4945, '1000019384': 4946, '1000006958': 4947, '1000006968': 4948, '1000006972': 4949, '1000006974': 4950, '1000006988': 4951, '1000006990': 4952, '1000006994': 4953, '1000007081': 4954, '1000007083': 4955, '1000007090': 4956, '1000019158': 4957, '1000018983': 4958, '1000007088': 4959, '1000019174': 4960, '1000019160': 4961, '1000019203': 4962, '1000019178': 4963, '1000019164': 4964, '1000007096': 4965, '1000007098': 4966, '1000007144': 4967, '1000020606': 4968, '1000007146': 4969, '1000019168': 4970, '1000007102': 4971, '1000007106': 4972, '1000007107': 4973, '1000007112': 4974, '1000007118': 4975, '1000019182': 4976, '1000019184': 4977, '1000007120': 4978, '1000019193': 4979, '1000007122': 4980, '1000019212': 4981, '1000007126': 4982, '1000007128': 4983, '1000007132': 4984, '1000019198': 4985, '1000019214': 4986, '1000007134': 4987, '1000007110': 4988, '1000007138': 4989, '1000007130': 4990, '1000019200': 4991, '1000019176': 4992, '1000007142': 4993, '1000019218': 4994, '1000018977': 4995, '1000018857': 4996, '1000019166': 4997, '1000019225': 4998, '1000017037': 4999, '1000017053': 5000, '1000017055': 5001, '1000017057': 5002, '1000017059': 5003, '1000017181': 5004, '1000017061': 5005, '1000017183': 5006, '1000017063': 5007, '1000017065': 5008, '1000017067': 5009, '1000017069': 5010, '1000017071': 5011, '1000017075': 5012, '1000017077': 5013, '1000017081': 5014, '1000017083': 5015, '1000017093': 5016, '1000017097': 5017, '1000017101': 5018, '1000017107': 5019, '1000017111': 5020, '1000017133': 5021, '1000017143': 5022, '1000017173': 5023, '1000010573': 5024, '1000010575': 5025, '1000010577': 5026, '1000010579': 5027, '1000010581': 5028, '1000010583': 5029, '1000010585': 5030, '1000011357': 5031, '1000010587': 5032, '1000010589': 5033, '1000010591': 5034, '1000010593': 5035, '1000010595': 5036, '1000010597': 5037, '1000010603': 5038, '1000010629': 5039, '1000010631': 5040, '1000010633': 5041, '1000019772': 5042, '1000010635': 5043, '1000010637': 5044, '1000010639': 5045, '1000019766': 5046, '1000010641': 5047, '1000010643': 5048, '1000010645': 5049, '1000019768': 5050, '1000010647': 5051, '1000010649': 5052, '1000019764': 5053, '1000010651': 5054, '1000010653': 5055, '1000010655': 5056, '1000010657': 5057, '1000010659': 5058, '1000012585': 5059, '1000011347': 5060, '1000019750': 5061, '1000010661': 5062, '1000010663': 5063, '1000019760': 5064, '1000010665': 5065, '1000011353': 5066, '1000010667': 5067, '1000010669': 5068, '1000010624': 5069, '1000010675': 5070, '1000011335': 5071, '1000010671': 5072, '1000019770': 5073, '1000010673': 5074, '1000011349': 5075, '1000010677': 5076, '1000010679': 5077, '1000010681': 5078, '1000010683': 5079, '1000019762': 5080, '1000019565': 5081, '1000011355': 5082, '1000010562': 5083, '1000022252': 5084, '1000012487': 5085, '1000010568': 5086, '1000015603': 5087, '1000021541': 5088, '1000021539': 5089, '1000021537': 5090, '1000021535': 5091, '1000021533': 5092, '1000022317': 5093, '1000021547': 5094, '1000010686': 5095, '1000010694': 5096, '1000010696': 5097, '1000010700': 5098, '1000010702': 5099, '1000011377': 5100, '1000011375': 5101, '1000010608': 5102, '1000022319': 5103, '1000010610': 5104, '1000022321': 5105, '1000010621': 5106, '1000010617': 5107, '1000010619': 5108, '1000016134': 5109, '1000016138': 5110, '1000018767': 5111, '1000016142': 5112, '1000016144': 5113, '1000017746': 5114, '1000016149': 5115, '1000016560': 5116, '1000016151': 5117, '1000016153': 5118, '1000016155': 5119, '1000016157': 5120, '1000016163': 5121, '1000016562': 5122, '1000016166': 5123, '1000016168': 5124, '1000016170': 5125, '1000016172': 5126, '1000016174': 5127, '1000016176': 5128, '1000016566': 5129, '1000016180': 5130, '1000016182': 5131, '1000016089': 5132, '1000016091': 5133, '1000016093': 5134, '1000016095': 5135, '1000016097': 5136, '1000016099': 5137, '1000016101': 5138, '1000016105': 5139, '1000016107': 5140, '1000016109': 5141, '1000016113': 5142, '1000019567': 5143, '1000016119': 5144, '1000016117': 5145, '1000016121': 5146, '1000016123': 5147, '1000016125': 5148, '1000016127': 5149, '1000016129': 5150, '1000010904': 5151, '1000010906': 5152, '1000010908': 5153, '1000010910': 5154, '1000020853': 5155, '1000010914': 5156, '1000020829': 5157, '1000020835': 5158, '1000020821': 5159, '1000020839': 5160, '1000020841': 5161, '1000020823': 5162, '1000010918': 5163, '1000010920': 5164, '1000010922': 5165, '1000011371': 5166, '1000010924': 5167, '1000010926': 5168, '1000010928': 5169, '1000010930': 5170, '1000020687': 5171, '1000010933': 5172, '1000010935': 5173, '1000020691': 5174, '1000020689': 5175, '1000017303': 5176, '1000010939': 5177, '1000010941': 5178, '1000010943': 5179, '1000017185': 5180, '1000010948': 5181, '1000010950': 5182, '1000020697': 5183, '1000010952': 5184, '1000010946': 5185, '1000010956': 5186, '1000010954': 5187, '1000020695': 5188, '1000015804': 5189, '1000015802': 5190, '1000015806': 5191, '1000015810': 5192, '1000015818': 5193, '1000015812': 5194, '1000015816': 5195, '1000010961': 5196, '1000010963': 5197, '1000020648': 5198, '1000010967': 5199, '1000010969': 5200, '1000020652': 5201, '1000010972': 5202, '1000010976': 5203, '1000010981': 5204, '1000010983': 5205, '1000011379': 5206, '1000010985': 5207, '1000010989': 5208, '1000010994': 5209, '1000010996': 5210, '1000012865': 5211, '1000010998': 5212, '1000022323': 5213, '1000015830': 5214, '1000022325': 5215, '1000011000': 5216, '1000011002': 5217, '1000011004': 5218, '1000011345': 5219, '1000011007': 5220, '1000011009': 5221, '1000011014': 5222, '1000020845': 5223, '1000011020': 5224, '1000011022': 5225, '1000020851': 5226, '1000020849': 5227, '1000020847': 5228, '1000020843': 5229, '1000011012': 5230, '1000011030': 5231, '1000011035': 5232, '1000011037': 5233, '1000011044': 5234, '1000020703': 5235, '1000011046': 5236, '1000017677': 5237, '1000017681': 5238, '1000011048': 5239, '1000003524': 5240, '1000003462': 5241, '1000003443': 5242, '1000003447': 5243, '1000003441': 5244, '1000003439': 5245, '1000003437': 5246, '1000003452': 5247, '1000003454': 5248, '1000003456': 5249, '1000003460': 5250, '1000003427': 5251, '1000003429': 5252, '1000022247': 5253, '1000003407': 5254, '1000003409': 5255, '1000012938': 5256, '1000012936': 5257, '1000003434': 5258, '1000003432': 5259, '1000003528': 5260, '1000003424': 5261, '1000003414': 5262, '1000003416': 5263, '1000003420': 5264, '1000003412': 5265, '1000003530': 5266, '1000003402': 5267, '1000003404': 5268, '1000003400': 5269}\n"
     ]
    }
   ],
   "source": [
    "print(validation_generator.class_indices)"
   ]
  },
  {
   "cell_type": "code",
   "execution_count": 54,
   "metadata": {},
   "outputs": [
    {
     "name": "stdout",
     "output_type": "stream",
     "text": [
      "_________________________________________________________________\n",
      "Layer (type)                 Output Shape              Param #   \n",
      "=================================================================\n",
      "conv2d_59 (Conv2D)           (None, 88, 88, 32)        2432      \n",
      "_________________________________________________________________\n",
      "conv2d_60 (Conv2D)           (None, 42, 42, 32)        25632     \n",
      "_________________________________________________________________\n",
      "max_pooling2d_30 (MaxPooling (None, 21, 21, 32)        0         \n",
      "_________________________________________________________________\n",
      "dropout_49 (Dropout)         (None, 21, 21, 32)        0         \n",
      "_________________________________________________________________\n",
      "conv2d_61 (Conv2D)           (None, 19, 19, 64)        18496     \n",
      "_________________________________________________________________\n",
      "conv2d_62 (Conv2D)           (None, 17, 17, 64)        36928     \n",
      "_________________________________________________________________\n",
      "max_pooling2d_31 (MaxPooling (None, 8, 8, 64)          0         \n",
      "_________________________________________________________________\n",
      "dropout_50 (Dropout)         (None, 8, 8, 64)          0         \n",
      "_________________________________________________________________\n",
      "conv2d_63 (Conv2D)           (None, 6, 6, 128)         73856     \n",
      "_________________________________________________________________\n",
      "conv2d_64 (Conv2D)           (None, 4, 4, 128)         147584    \n",
      "_________________________________________________________________\n",
      "max_pooling2d_32 (MaxPooling (None, 2, 2, 128)         0         \n",
      "_________________________________________________________________\n",
      "dropout_51 (Dropout)         (None, 2, 2, 128)         0         \n",
      "_________________________________________________________________\n",
      "flatten_15 (Flatten)         (None, 512)               0         \n",
      "_________________________________________________________________\n",
      "dense_34 (Dense)             (None, 256)               131328    \n",
      "_________________________________________________________________\n",
      "dropout_52 (Dropout)         (None, 256)               0         \n",
      "_________________________________________________________________\n",
      "dense_35 (Dense)             (None, 512)               131584    \n",
      "_________________________________________________________________\n",
      "dropout_53 (Dropout)         (None, 512)               0         \n",
      "_________________________________________________________________\n",
      "dense_36 (Dense)             (None, 5270)              2703510   \n",
      "=================================================================\n",
      "Total params: 3,271,350\n",
      "Trainable params: 3,271,350\n",
      "Non-trainable params: 0\n",
      "_________________________________________________________________\n",
      "Epoch 1/10\n",
      "100/100 [==============================] - 127s - loss: 3.5357 - acc: 0.3389 - val_loss: 3.1696 - val_acc: 0.2973\n",
      "Epoch 2/10\n",
      "100/100 [==============================] - 123s - loss: 2.8452 - acc: 0.3628 - val_loss: 2.7547 - val_acc: 0.2973\n",
      "Epoch 3/10\n",
      "100/100 [==============================] - 134s - loss: 2.7021 - acc: 0.3710 - val_loss: 2.6883 - val_acc: 0.2973\n",
      "Epoch 4/10\n",
      "100/100 [==============================] - 141s - loss: 2.3761 - acc: 0.3779 - val_loss: 2.2494 - val_acc: 0.3514\n",
      "Epoch 5/10\n",
      "100/100 [==============================] - 3733s - loss: 2.0245 - acc: 0.4123 - val_loss: 1.6259 - val_acc: 0.6757\n",
      "Epoch 6/10\n",
      "100/100 [==============================] - 109s - loss: 1.5959 - acc: 0.5253 - val_loss: 0.9668 - val_acc: 0.7297\n",
      "Epoch 7/10\n",
      "100/100 [==============================] - 114s - loss: 1.1555 - acc: 0.6437 - val_loss: 0.6702 - val_acc: 0.8108\n",
      "Epoch 8/10\n",
      "100/100 [==============================] - 119s - loss: 1.0594 - acc: 0.6899 - val_loss: 0.7204 - val_acc: 0.8108\n",
      "Epoch 9/10\n",
      "100/100 [==============================] - 121s - loss: 0.5871 - acc: 0.7993 - val_loss: 0.5864 - val_acc: 0.8649\n",
      "Epoch 10/10\n",
      "100/100 [==============================] - 122s - loss: 0.5062 - acc: 0.8419 - val_loss: 0.5696 - val_acc: 0.9189\n"
     ]
    },
    {
     "data": {
      "text/plain": [
       "<keras.callbacks.History at 0x1591f3a58>"
      ]
     },
     "execution_count": 54,
     "metadata": {},
     "output_type": "execute_result"
    }
   ],
   "source": [
    "# Keras seq model\n",
    "model = Sequential()\n",
    "model.add(Conv2D(32,(5,5),strides=(2,2),activation='relu',input_shape=input_shape))\n",
    "model.add(Conv2D(32,(5,5),strides=(2,2),activation='relu'))\n",
    "model.add(MaxPooling2D(pool_size=(2,2)))\n",
    "model.add(Dropout(0.25))\n",
    "\n",
    "model.add(Conv2D(64,(3,3),activation='relu',input_shape=input_shape))\n",
    "model.add(Conv2D(64,(3,3),activation='relu'))\n",
    "model.add(MaxPooling2D(pool_size=(2,2)))\n",
    "model.add(Dropout(0.25))\n",
    "\n",
    "model.add(Conv2D(128,(3,3),activation='relu',input_shape=input_shape))\n",
    "model.add(Conv2D(128,(3,3),activation='relu'))\n",
    "model.add(MaxPooling2D(pool_size=(2,2)))\n",
    "model.add(Dropout(0.25))\n",
    "\n",
    "\n",
    "model.add(Flatten())\n",
    "model.add(Dense(256,activation='relu'))\n",
    "model.add(Dropout(0.25))\n",
    "model.add(Dense(512,activation='relu'))\n",
    "model.add(Dropout(0.5))\n",
    "model.add(Dense(num_classes,activation='softmax'))\n",
    "          \n",
    "model.compile(loss='categorical_crossentropy', optimizer='adam', metrics=['accuracy'])\n",
    "model.summary()\n",
    "\n",
    "model.fit_generator(train_generator,\n",
    "                   steps_per_epoch=100,\n",
    "                   epochs=epochs,\n",
    "                   validation_data=validation_generator,\n",
    "                   validation_steps=100)\n",
    "          \n",
    "\n",
    "        "
   ]
  },
  {
   "cell_type": "code",
   "execution_count": null,
   "metadata": {
    "collapsed": true
   },
   "outputs": [],
   "source": [
    "model.save_weights('first_weights.h5')"
   ]
  }
 ],
 "metadata": {
  "kernelspec": {
   "display_name": "Python 3",
   "language": "python",
   "name": "python3"
  },
  "language_info": {
   "codemirror_mode": {
    "name": "ipython",
    "version": 3
   },
   "file_extension": ".py",
   "mimetype": "text/x-python",
   "name": "python",
   "nbconvert_exporter": "python",
   "pygments_lexer": "ipython3",
   "version": "3.6.1"
  }
 },
 "nbformat": 4,
 "nbformat_minor": 2
}
