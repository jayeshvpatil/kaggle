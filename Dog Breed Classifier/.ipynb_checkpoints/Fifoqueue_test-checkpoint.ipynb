{
 "cells": [
  {
   "cell_type": "code",
   "execution_count": 41,
   "metadata": {
    "collapsed": true
   },
   "outputs": [],
   "source": [
    "import numpy as np\n",
    "import pandas as pd\n",
    "import tensorflow as tf\n",
    "tf.logging.set_verbosity(tf.logging.INFO)"
   ]
  },
  {
   "cell_type": "code",
   "execution_count": 42,
   "metadata": {
    "collapsed": true
   },
   "outputs": [],
   "source": [
    "\n",
    "filenames = tf.train.match_filenames_once(\"./train/*.jpg\")\n",
    "fileq = tf.train.string_input_producer(filenames)\n"
   ]
  },
  {
   "cell_type": "code",
   "execution_count": 43,
   "metadata": {
    "collapsed": true
   },
   "outputs": [],
   "source": [
    "def _preprocess(image) :\n",
    "    image = tf.image.random_flip_left_right(image)\n",
    "    #image = crop(image)\n",
    "    image = tf.transpose(image,[2,0,1]) #change to CHW format\n",
    "    image = (tf.cast(image,tf.float32) - 128.0)/128.0 #push in to [-1 to 1] area.\n",
    "    return image"
   ]
  },
  {
   "cell_type": "code",
   "execution_count": 52,
   "metadata": {},
   "outputs": [],
   "source": [
    "image_reader = tf.WholeFileReader()\n",
    "(label,image_file) = image_reader.read(fileq)\n",
    "image = tf.image.decode_jpeg(image_file,3)\n",
    "resized = tf.image.resize_images(image,[180,180],tf.image.ResizeMethod.BILINEAR)\n",
    "preprocessed = _preprocess(resized)\n",
    "\n"
   ]
  },
  {
   "cell_type": "code",
   "execution_count": null,
   "metadata": {},
   "outputs": [],
   "source": [
    "input_ = tf.placeholder(tf.float32,shape =[None,180,180,3], name='input_')\n",
    "target_= tf.placeholder(tf.float32,shape =[None,120], name='target_')\n",
    "keep_prob= tf.placeholder(tf.float32, name='keep_prob')\n"
   ]
  },
  {
   "cell_type": "code",
   "execution_count": null,
   "metadata": {
    "collapsed": true
   },
   "outputs": [],
   "source": [
    "filters =32\n",
    "kernel_size=(5,5)\n",
    "strides=(2,2)\n",
    "x = tf.reshape(input_, [-1,180,180,3])\n",
    "initializer=tf.contrib.layers.xavier_initializer_conv2d()\n",
    "\n",
    "conv1 = tf.layers.conv2d(x,filters,kernel_size,strides,padding='same',kernel_initializer=initializer)\n",
    "pool1 = tf.layers.max_pooling2d(inputs=conv1, pool_size=[2, 2], strides=2)\n",
    "\n",
    "\n",
    "filters =64\n",
    "kernel_size=(5,5)\n",
    "strides=(2,2)\n",
    "conv2 = tf.layers.conv2d(pool1,filters,kernel_size,strides,padding='same',kernel_initializer=initializer)\n",
    "pool2 = tf.layers.max_pooling2d(inputs=conv1, pool_size=[2, 2], strides=2)\n",
    "\n"
   ]
  },
  {
   "cell_type": "code",
   "execution_count": null,
   "metadata": {
    "collapsed": true
   },
   "outputs": [],
   "source": [
    "pool2_flat = tf.contrib.layers.flatten(pool2)\n",
    "\n",
    "dense = tf.layers.dense(inputs=pool2_flat, units=1024, activation=tf.nn.relu)\n",
    "dropout = tf.layers.dropout(inputs=dense, rate=keep_prob)"
   ]
  },
  {
   "cell_type": "code",
   "execution_count": null,
   "metadata": {
    "collapsed": true
   },
   "outputs": [],
   "source": []
  },
  {
   "cell_type": "code",
   "execution_count": 53,
   "metadata": {},
   "outputs": [
    {
     "name": "stdout",
     "output_type": "stream",
     "text": [
      "from the train set:\n",
      "[array([b'./train/e00130d97b9b4073e79e0aed53fedc3c.jpg',\n",
      "       b'./train/99b5c534b1d362f73ec2e2d3ec9b9530.jpg'], dtype=object), array([[[[ 0.9140625 ,  0.9453125 ,  0.9453125 , ..., -0.57899308,\n",
      "          -0.59375   , -0.6171875 ],\n",
      "         [ 0.96679688,  0.953776  ,  0.953776  , ..., -0.55490452,\n",
      "          -0.57277197, -0.66796875],\n",
      "         [ 0.95572913,  0.9765625 ,  0.9765625 , ..., -0.53993058,\n",
      "          -0.55787039, -0.78255206],\n",
      "         ..., \n",
      "         [ 0.94726562,  0.94552958,  0.9459635 , ...,  0.61631942,\n",
      "           0.594401  ,  0.5703125 ],\n",
      "         [ 0.93098974,  0.93619776,  0.94270802, ...,  0.61805582,\n",
      "           0.60300887,  0.59505224],\n",
      "         [ 0.90690112,  0.89359128,  0.91124165, ...,  0.57320619,\n",
      "           0.59888613,  0.54101586]],\n",
      "\n",
      "        [[ 0.9609375 ,  0.9921875 ,  0.9921875 , ..., -0.49565971,\n",
      "          -0.55381942, -0.6171875 ],\n",
      "         [ 0.99088538,  0.985026  ,  0.985026  , ..., -0.47157115,\n",
      "          -0.5329861 , -0.66796875],\n",
      "         [ 0.97135413,  0.9921875 ,  0.9921875 , ..., -0.45789927,\n",
      "          -0.51967591, -0.79036456],\n",
      "         ..., \n",
      "         [ 0.98632812,  0.97352433,  0.97330737, ...,  0.64756942,\n",
      "           0.625651  ,  0.6015625 ],\n",
      "         [ 0.97005224,  0.96744776,  0.97395802, ...,  0.64930582,\n",
      "           0.63425887,  0.62630224],\n",
      "         [ 0.94596362,  0.92484128,  0.94249165, ...,  0.60445619,\n",
      "           0.63013613,  0.57226586]],\n",
      "\n",
      "        [[ 0.9609375 ,  0.9921875 ,  0.9921875 , ..., -0.64149308,\n",
      "          -0.6579861 , -0.6796875 ],\n",
      "         [ 0.99023438,  0.9772135 ,  0.9772135 , ..., -0.61740452,\n",
      "          -0.63570601, -0.73046875],\n",
      "         [ 0.94791663,  0.96875   ,  0.96875   , ..., -0.6004051 ,\n",
      "          -0.60648149, -0.82942706],\n",
      "         ..., \n",
      "         [ 0.9921875 ,  0.98046875,  0.98046875, ...,  0.67100692,\n",
      "           0.6490885 ,  0.625     ],\n",
      "         [ 0.9921875 ,  0.97526026,  0.98177052, ...,  0.67274332,\n",
      "           0.65769637,  0.64973974],\n",
      "         [ 0.96940112,  0.93265378,  0.95030415, ...,  0.62789369,\n",
      "           0.65357363,  0.59570336]]],\n",
      "\n",
      "\n",
      "       [[[-0.0546875 ,  0.01302087, -0.02213544, ..., -0.00390625,\n",
      "          -0.22657299, -0.52474165],\n",
      "         [-0.2048611 , -0.13925058, -0.05570024, ..., -0.63650173,\n",
      "          -0.09752309, -0.58759487],\n",
      "         [-0.16145837, -0.02799481, -0.08304399, ..., -0.48480904,\n",
      "          -0.15422797, -0.24941981],\n",
      "         ..., \n",
      "         [-0.828125  , -0.85633683, -0.82031238, ..., -0.07682592,\n",
      "          -0.13976276, -0.1727401 ],\n",
      "         [-0.83072877, -0.85250247, -0.84100008, ..., -0.05837667,\n",
      "          -0.07422173, -0.09258789],\n",
      "         [-0.81684065, -0.85054976, -0.88078642, ..., -0.15059781,\n",
      "          -0.23409092, -0.1874395 ]],\n",
      "\n",
      "        [[ 0.1796875 ,  0.249349  ,  0.23177087, ...,  0.10351562,\n",
      "          -0.13152075, -0.43815303],\n",
      "         [ 0.14409721,  0.2192564 ,  0.28269672, ..., -0.42751735,\n",
      "           0.08939826, -0.41326046],\n",
      "         [ 0.17447913,  0.30924487,  0.2578125 , ..., -0.23068577,\n",
      "           0.08622384, -0.04954976],\n",
      "         ..., \n",
      "         [-0.7890625 , -0.81727433, -0.78124988, ..., -0.14193016,\n",
      "          -0.20486701, -0.23784435],\n",
      "         [-0.79166627, -0.81343997, -0.80193758, ..., -0.12087667,\n",
      "          -0.13672173, -0.15508789],\n",
      "         [-0.76996565, -0.80367476, -0.83391142, ..., -0.21309781,\n",
      "          -0.29659092, -0.2499395 ]],\n",
      "\n",
      "        [[ 0.3984375 ,  0.515625  ,  0.52083337, ..., -0.0390625 ,\n",
      "          -0.21876144, -0.42643476],\n",
      "         [ 0.42361116,  0.5452112 ,  0.63686347, ..., -0.45334202,\n",
      "           0.12600076, -0.2875374 ],\n",
      "         [ 0.42534721,  0.62188947,  0.640625  , ..., -0.10698783,\n",
      "           0.26605523,  0.19958186],\n",
      "         ..., \n",
      "         [-0.765625  , -0.79383683, -0.75781238, ..., -0.28515917,\n",
      "          -0.34809601, -0.38107336],\n",
      "         [-0.76822877, -0.79000247, -0.77850008, ..., -0.26931417,\n",
      "          -0.28515923, -0.30352539],\n",
      "         [-0.78559065, -0.81929976, -0.83391142, ..., -0.37325406,\n",
      "          -0.46065342, -0.414002  ]]]], dtype=float32)]\n",
      "INFO:tensorflow:Error reported to Coordinator: <class 'tensorflow.python.framework.errors_impl.CancelledError'>, Run call was cancelled\n"
     ]
    }
   ],
   "source": [
    "\n",
    "image_batch = tf.train.batch(\n",
    "                                    (label,preprocessed),\n",
    "                                    batch_size=2\n",
    "                                    #,num_threads=1\n",
    "                                    )\n",
    "with tf.Session() as sess:\n",
    "   # initialize the variables\n",
    "    sess.run((tf.global_variables_initializer(), tf.local_variables_initializer()))\n",
    "  \n",
    "  # initialize the queue threads to start to shovel data\n",
    "    coord = tf.train.Coordinator()\n",
    "    threads = tf.train.start_queue_runners(coord=coord)\n",
    "    \n",
    "    print(\"from the train set:\")\n",
    "    for i in range(1):\n",
    "        print(sess.run(image_batch))"
   ]
  },
  {
   "cell_type": "code",
   "execution_count": null,
   "metadata": {
    "collapsed": true
   },
   "outputs": [],
   "source": []
  },
  {
   "cell_type": "code",
   "execution_count": null,
   "metadata": {
    "collapsed": true
   },
   "outputs": [],
   "source": []
  },
  {
   "cell_type": "code",
   "execution_count": null,
   "metadata": {
    "collapsed": true
   },
   "outputs": [],
   "source": []
  },
  {
   "cell_type": "code",
   "execution_count": null,
   "metadata": {
    "collapsed": true
   },
   "outputs": [],
   "source": []
  }
 ],
 "metadata": {
  "kernelspec": {
   "display_name": "Python 3",
   "language": "python",
   "name": "python3"
  },
  "language_info": {
   "codemirror_mode": {
    "name": "ipython",
    "version": 3
   },
   "file_extension": ".py",
   "mimetype": "text/x-python",
   "name": "python",
   "nbconvert_exporter": "python",
   "pygments_lexer": "ipython3",
   "version": "3.6.1"
  }
 },
 "nbformat": 4,
 "nbformat_minor": 2
}
